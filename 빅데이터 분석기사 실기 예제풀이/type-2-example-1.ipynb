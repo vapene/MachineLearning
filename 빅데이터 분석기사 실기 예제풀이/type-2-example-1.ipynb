{
 "cells": [
  {
   "cell_type": "markdown",
   "id": "adc53b0a",
   "metadata": {
    "papermill": {
     "duration": 0.046626,
     "end_time": "2021-12-02T12:31:39.840877",
     "exception": false,
     "start_time": "2021-12-02T12:31:39.794251",
     "status": "completed"
    },
    "tags": []
   },
   "source": [
    "# 작업형 제 2유형 예시문제"
   ]
  },
  {
   "cell_type": "markdown",
   "id": "9afe4c51",
   "metadata": {
    "papermill": {
     "duration": 0.044195,
     "end_time": "2021-12-02T12:31:39.934984",
     "exception": false,
     "start_time": "2021-12-02T12:31:39.890789",
     "status": "completed"
    },
    "tags": []
   },
   "source": [
    "### ※ 본 시험가이드는, 빅데이터분석기사 실기시험 응시를 준비하시는 \"초보자\"분들을 위해 고득점이 아닌 \"평균점수\" 취득을 목표로 제작했습니다.\n",
    "\n",
    "### 1. 데이터 로드\n",
    "만약, 한글이 깨지면 encoding = \"euc-kr\"\n",
    "데이터 프레임이 잘 읽어졌는지 확인한다.\n",
    "\n",
    "### 2. 데이터 전처리 및 EDA\n",
    "\n",
    "※이때, 전처리는 train data와 test data 동시에 처리해 주어야 한다.※\n",
    "\n",
    "- isnull().sum()을 이용해서 결측값을 확인하고\n",
    "결측값이 존재하면, 결측값이 존재하는 컬럼을 확인하고, 해당 컬럼의 정보를 .describe() 메서드로 확인해본다.\n",
    "\n",
    "- 데이터 타입을 확인한다.\n",
    "sklearn의 대부분의 모델은 object 형 data를 입력값으로 허락하지 않는다. 따라서 object dtypes을 그대로 사용하면, error가 발생한다.\n",
    "\n",
    "- 형변환을 해주어야 한다.\n",
    "대표적으로는 LabelEncoding과 OnehotEncoding이 있다. 원-핫 인코딩은 Pandas의 get_dummies() 함수로도 구현 가능)\n",
    "원-핫 인코딩을 할 때에는, 컬럼의 유일값이 너무 많지는 않은지 확인할 필요가 있다. 유일값이 너무 많으면 df가 커져서 성능이 떨어짐. \n",
    "\n",
    "- 결측값 처리를 해준다.\n",
    "앞서 결측값을 확인했을 떄, 결측값이 존재하는 행을 drop하거나 0으로 대치하거나, 평균값으로 대치하거나 등등 각 상황에 맞게 하면 된다\n",
    "\n",
    "### 3. EDA\n",
    "EDA과정은 Data Scientist의 역량에 따라 다르게 진행되므로, 설명은 생략하겠다.\n",
    "EDA과정을 거친 후, \n",
    "\n",
    "- 모델학습에 사용할 Fearture를 선정하고 리스트를 만들어둔다.\n",
    "\n",
    "- 모델검증을 할 수 있도록 train_x와 trian_y를 train_test_split을 이용하여 train_x,y과 valid_x,y로 분할 해준다.\n",
    "\n",
    "### 4. 모델링 단계\n",
    "분류문제인지, 회귀문제인지 등등을 고려하여 모델을 구성한다.(파이프라인 등을 다양하게 적용)\n",
    "\n",
    "### 5.모델 학습 , 모델 평가, Target 예측 단계\n",
    "구성한 모델에 train data set을 적합시킨다.\n",
    "적합된 모델을 valid set을 이용하여 검증한다. (이때, 평가척도는 개인이 유동적으로 선택)\n",
    "\n",
    "검증이 완료된 모델로 test_x data에 대한 target을 예측한다.\n",
    "\n",
    "### 6. 제출파일을 생성\n",
    "\n",
    "\n",
    "\n",
    "※데이터분석은 정해진 방법이 없습니다. 개인 역량이 중요합니다. \n",
    "\n",
    "### 해당 노트북 Upvote와 깃 저장소 \"Star\"클릭 부탁드립니다.\n",
    "\n"
   ]
  },
  {
   "cell_type": "markdown",
   "id": "1f675a10",
   "metadata": {
    "papermill": {
     "duration": 0.045002,
     "end_time": "2021-12-02T12:31:40.025705",
     "exception": false,
     "start_time": "2021-12-02T12:31:39.980703",
     "status": "completed"
    },
    "tags": []
   },
   "source": [
    "### 데이터 로드"
   ]
  },
  {
   "cell_type": "code",
   "execution_count": 1,
   "id": "41a74384",
   "metadata": {
    "_cell_guid": "b1076dfc-b9ad-4769-8c92-a6c4dae69d19",
    "_uuid": "8f2839f25d086af736a60e9eeb907d3b93b6e0e5",
    "execution": {
     "iopub.execute_input": "2021-12-02T12:31:40.127070Z",
     "iopub.status.busy": "2021-12-02T12:31:40.126331Z",
     "iopub.status.idle": "2021-12-02T12:31:40.582164Z",
     "shell.execute_reply": "2021-12-02T12:31:40.581390Z",
     "shell.execute_reply.started": "2021-12-02T12:17:19.291254Z"
    },
    "papermill": {
     "duration": 0.512313,
     "end_time": "2021-12-02T12:31:40.582369",
     "exception": false,
     "start_time": "2021-12-02T12:31:40.070056",
     "status": "completed"
    },
    "tags": []
   },
   "outputs": [],
   "source": [
    "import pandas as pd\n",
    "\n",
    "x_train = pd.read_csv(\"https://raw.githubusercontent.com/Datamanim/dataq/main/X_train.csv\", encoding = 'euc-kr')\n",
    "y_train = pd.read_csv(\"https://raw.githubusercontent.com/Datamanim/dataq/main/y_train.csv\")\n",
    "x_test = pd.read_csv(\"https://raw.githubusercontent.com/Datamanim/dataq/main/X_test.csv\", encoding = 'euc-kr')"
   ]
  },
  {
   "cell_type": "code",
   "execution_count": 2,
   "id": "34500316",
   "metadata": {
    "execution": {
     "iopub.execute_input": "2021-12-02T12:31:40.687252Z",
     "iopub.status.busy": "2021-12-02T12:31:40.685438Z",
     "iopub.status.idle": "2021-12-02T12:31:40.690222Z",
     "shell.execute_reply": "2021-12-02T12:31:40.689670Z",
     "shell.execute_reply.started": "2021-12-02T12:17:19.761098Z"
    },
    "papermill": {
     "duration": 0.060596,
     "end_time": "2021-12-02T12:31:40.690377",
     "exception": false,
     "start_time": "2021-12-02T12:31:40.629781",
     "status": "completed"
    },
    "tags": []
   },
   "outputs": [],
   "source": [
    "x_train.set_index(x_train['cust_id'], inplace=True) # 인덱스의 첫 컬럼을 인덱스로 사용\n",
    "y_train.set_index(y_train['cust_id'], inplace=True)\n",
    "x_test.set_index(x_test['cust_id'], inplace=True)"
   ]
  },
  {
   "cell_type": "code",
   "execution_count": 3,
   "id": "fb48b38f",
   "metadata": {
    "execution": {
     "iopub.execute_input": "2021-12-02T12:31:40.853653Z",
     "iopub.status.busy": "2021-12-02T12:31:40.852913Z",
     "iopub.status.idle": "2021-12-02T12:31:40.885461Z",
     "shell.execute_reply": "2021-12-02T12:31:40.886010Z",
     "shell.execute_reply.started": "2021-12-02T12:17:19.767979Z"
    },
    "papermill": {
     "duration": 0.148576,
     "end_time": "2021-12-02T12:31:40.886201",
     "exception": false,
     "start_time": "2021-12-02T12:31:40.737625",
     "status": "completed"
    },
    "tags": []
   },
   "outputs": [
    {
     "data": {
      "text/html": [
       "<div>\n",
       "<style scoped>\n",
       "    .dataframe tbody tr th:only-of-type {\n",
       "        vertical-align: middle;\n",
       "    }\n",
       "\n",
       "    .dataframe tbody tr th {\n",
       "        vertical-align: top;\n",
       "    }\n",
       "\n",
       "    .dataframe thead th {\n",
       "        text-align: right;\n",
       "    }\n",
       "</style>\n",
       "<table border=\"1\" class=\"dataframe\">\n",
       "  <thead>\n",
       "    <tr style=\"text-align: right;\">\n",
       "      <th></th>\n",
       "      <th>cust_id</th>\n",
       "      <th>총구매액</th>\n",
       "      <th>최대구매액</th>\n",
       "      <th>환불금액</th>\n",
       "      <th>주구매상품</th>\n",
       "      <th>주구매지점</th>\n",
       "      <th>내점일수</th>\n",
       "      <th>내점당구매건수</th>\n",
       "      <th>주말방문비율</th>\n",
       "      <th>구매주기</th>\n",
       "    </tr>\n",
       "    <tr>\n",
       "      <th>cust_id</th>\n",
       "      <th></th>\n",
       "      <th></th>\n",
       "      <th></th>\n",
       "      <th></th>\n",
       "      <th></th>\n",
       "      <th></th>\n",
       "      <th></th>\n",
       "      <th></th>\n",
       "      <th></th>\n",
       "      <th></th>\n",
       "    </tr>\n",
       "  </thead>\n",
       "  <tbody>\n",
       "    <tr>\n",
       "      <th>0</th>\n",
       "      <td>0</td>\n",
       "      <td>68282840</td>\n",
       "      <td>11264000</td>\n",
       "      <td>6860000.0</td>\n",
       "      <td>기타</td>\n",
       "      <td>강남점</td>\n",
       "      <td>19</td>\n",
       "      <td>3.894737</td>\n",
       "      <td>0.527027</td>\n",
       "      <td>17</td>\n",
       "    </tr>\n",
       "    <tr>\n",
       "      <th>1</th>\n",
       "      <td>1</td>\n",
       "      <td>2136000</td>\n",
       "      <td>2136000</td>\n",
       "      <td>300000.0</td>\n",
       "      <td>스포츠</td>\n",
       "      <td>잠실점</td>\n",
       "      <td>2</td>\n",
       "      <td>1.500000</td>\n",
       "      <td>0.000000</td>\n",
       "      <td>1</td>\n",
       "    </tr>\n",
       "    <tr>\n",
       "      <th>2</th>\n",
       "      <td>2</td>\n",
       "      <td>3197000</td>\n",
       "      <td>1639000</td>\n",
       "      <td>NaN</td>\n",
       "      <td>남성 캐주얼</td>\n",
       "      <td>관악점</td>\n",
       "      <td>2</td>\n",
       "      <td>2.000000</td>\n",
       "      <td>0.000000</td>\n",
       "      <td>1</td>\n",
       "    </tr>\n",
       "    <tr>\n",
       "      <th>3</th>\n",
       "      <td>3</td>\n",
       "      <td>16077620</td>\n",
       "      <td>4935000</td>\n",
       "      <td>NaN</td>\n",
       "      <td>기타</td>\n",
       "      <td>광주점</td>\n",
       "      <td>18</td>\n",
       "      <td>2.444444</td>\n",
       "      <td>0.318182</td>\n",
       "      <td>16</td>\n",
       "    </tr>\n",
       "    <tr>\n",
       "      <th>4</th>\n",
       "      <td>4</td>\n",
       "      <td>29050000</td>\n",
       "      <td>24000000</td>\n",
       "      <td>NaN</td>\n",
       "      <td>보석</td>\n",
       "      <td>본  점</td>\n",
       "      <td>2</td>\n",
       "      <td>1.500000</td>\n",
       "      <td>0.000000</td>\n",
       "      <td>85</td>\n",
       "    </tr>\n",
       "    <tr>\n",
       "      <th>...</th>\n",
       "      <td>...</td>\n",
       "      <td>...</td>\n",
       "      <td>...</td>\n",
       "      <td>...</td>\n",
       "      <td>...</td>\n",
       "      <td>...</td>\n",
       "      <td>...</td>\n",
       "      <td>...</td>\n",
       "      <td>...</td>\n",
       "      <td>...</td>\n",
       "    </tr>\n",
       "    <tr>\n",
       "      <th>3495</th>\n",
       "      <td>3495</td>\n",
       "      <td>3175200</td>\n",
       "      <td>3042900</td>\n",
       "      <td>NaN</td>\n",
       "      <td>골프</td>\n",
       "      <td>본  점</td>\n",
       "      <td>1</td>\n",
       "      <td>2.000000</td>\n",
       "      <td>1.000000</td>\n",
       "      <td>0</td>\n",
       "    </tr>\n",
       "    <tr>\n",
       "      <th>3496</th>\n",
       "      <td>3496</td>\n",
       "      <td>29628600</td>\n",
       "      <td>7200000</td>\n",
       "      <td>6049600.0</td>\n",
       "      <td>시티웨어</td>\n",
       "      <td>부산본점</td>\n",
       "      <td>8</td>\n",
       "      <td>1.625000</td>\n",
       "      <td>0.461538</td>\n",
       "      <td>40</td>\n",
       "    </tr>\n",
       "    <tr>\n",
       "      <th>3497</th>\n",
       "      <td>3497</td>\n",
       "      <td>75000</td>\n",
       "      <td>75000</td>\n",
       "      <td>NaN</td>\n",
       "      <td>주방용품</td>\n",
       "      <td>창원점</td>\n",
       "      <td>1</td>\n",
       "      <td>1.000000</td>\n",
       "      <td>0.000000</td>\n",
       "      <td>0</td>\n",
       "    </tr>\n",
       "    <tr>\n",
       "      <th>3498</th>\n",
       "      <td>3498</td>\n",
       "      <td>1875000</td>\n",
       "      <td>1000000</td>\n",
       "      <td>NaN</td>\n",
       "      <td>화장품</td>\n",
       "      <td>본  점</td>\n",
       "      <td>2</td>\n",
       "      <td>1.000000</td>\n",
       "      <td>0.000000</td>\n",
       "      <td>39</td>\n",
       "    </tr>\n",
       "    <tr>\n",
       "      <th>3499</th>\n",
       "      <td>3499</td>\n",
       "      <td>263101550</td>\n",
       "      <td>34632000</td>\n",
       "      <td>5973000.0</td>\n",
       "      <td>기타</td>\n",
       "      <td>본  점</td>\n",
       "      <td>38</td>\n",
       "      <td>2.421053</td>\n",
       "      <td>0.467391</td>\n",
       "      <td>8</td>\n",
       "    </tr>\n",
       "  </tbody>\n",
       "</table>\n",
       "<p>3500 rows × 10 columns</p>\n",
       "</div>"
      ],
      "text/plain": [
       "         cust_id       총구매액     최대구매액       환불금액   주구매상품 주구매지점  내점일수  \\\n",
       "cust_id                                                                \n",
       "0              0   68282840  11264000  6860000.0      기타   강남점    19   \n",
       "1              1    2136000   2136000   300000.0     스포츠   잠실점     2   \n",
       "2              2    3197000   1639000        NaN  남성 캐주얼   관악점     2   \n",
       "3              3   16077620   4935000        NaN      기타   광주점    18   \n",
       "4              4   29050000  24000000        NaN      보석  본  점     2   \n",
       "...          ...        ...       ...        ...     ...   ...   ...   \n",
       "3495        3495    3175200   3042900        NaN      골프  본  점     1   \n",
       "3496        3496   29628600   7200000  6049600.0    시티웨어  부산본점     8   \n",
       "3497        3497      75000     75000        NaN    주방용품   창원점     1   \n",
       "3498        3498    1875000   1000000        NaN     화장품  본  점     2   \n",
       "3499        3499  263101550  34632000  5973000.0      기타  본  점    38   \n",
       "\n",
       "          내점당구매건수    주말방문비율  구매주기  \n",
       "cust_id                            \n",
       "0        3.894737  0.527027    17  \n",
       "1        1.500000  0.000000     1  \n",
       "2        2.000000  0.000000     1  \n",
       "3        2.444444  0.318182    16  \n",
       "4        1.500000  0.000000    85  \n",
       "...           ...       ...   ...  \n",
       "3495     2.000000  1.000000     0  \n",
       "3496     1.625000  0.461538    40  \n",
       "3497     1.000000  0.000000     0  \n",
       "3498     1.000000  0.000000    39  \n",
       "3499     2.421053  0.467391     8  \n",
       "\n",
       "[3500 rows x 10 columns]"
      ]
     },
     "execution_count": 3,
     "metadata": {},
     "output_type": "execute_result"
    }
   ],
   "source": [
    "x_train"
   ]
  },
  {
   "cell_type": "code",
   "execution_count": 4,
   "id": "4e3df1da",
   "metadata": {
    "execution": {
     "iopub.execute_input": "2021-12-02T12:31:40.984584Z",
     "iopub.status.busy": "2021-12-02T12:31:40.983754Z",
     "iopub.status.idle": "2021-12-02T12:31:40.995386Z",
     "shell.execute_reply": "2021-12-02T12:31:40.995943Z",
     "shell.execute_reply.started": "2021-12-02T12:17:19.795736Z"
    },
    "papermill": {
     "duration": 0.061721,
     "end_time": "2021-12-02T12:31:40.996167",
     "exception": false,
     "start_time": "2021-12-02T12:31:40.934446",
     "status": "completed"
    },
    "tags": []
   },
   "outputs": [
    {
     "data": {
      "text/html": [
       "<div>\n",
       "<style scoped>\n",
       "    .dataframe tbody tr th:only-of-type {\n",
       "        vertical-align: middle;\n",
       "    }\n",
       "\n",
       "    .dataframe tbody tr th {\n",
       "        vertical-align: top;\n",
       "    }\n",
       "\n",
       "    .dataframe thead th {\n",
       "        text-align: right;\n",
       "    }\n",
       "</style>\n",
       "<table border=\"1\" class=\"dataframe\">\n",
       "  <thead>\n",
       "    <tr style=\"text-align: right;\">\n",
       "      <th></th>\n",
       "      <th>cust_id</th>\n",
       "      <th>gender</th>\n",
       "    </tr>\n",
       "    <tr>\n",
       "      <th>cust_id</th>\n",
       "      <th></th>\n",
       "      <th></th>\n",
       "    </tr>\n",
       "  </thead>\n",
       "  <tbody>\n",
       "    <tr>\n",
       "      <th>0</th>\n",
       "      <td>0</td>\n",
       "      <td>0</td>\n",
       "    </tr>\n",
       "    <tr>\n",
       "      <th>1</th>\n",
       "      <td>1</td>\n",
       "      <td>0</td>\n",
       "    </tr>\n",
       "    <tr>\n",
       "      <th>2</th>\n",
       "      <td>2</td>\n",
       "      <td>1</td>\n",
       "    </tr>\n",
       "    <tr>\n",
       "      <th>3</th>\n",
       "      <td>3</td>\n",
       "      <td>1</td>\n",
       "    </tr>\n",
       "    <tr>\n",
       "      <th>4</th>\n",
       "      <td>4</td>\n",
       "      <td>0</td>\n",
       "    </tr>\n",
       "    <tr>\n",
       "      <th>...</th>\n",
       "      <td>...</td>\n",
       "      <td>...</td>\n",
       "    </tr>\n",
       "    <tr>\n",
       "      <th>3495</th>\n",
       "      <td>3495</td>\n",
       "      <td>1</td>\n",
       "    </tr>\n",
       "    <tr>\n",
       "      <th>3496</th>\n",
       "      <td>3496</td>\n",
       "      <td>1</td>\n",
       "    </tr>\n",
       "    <tr>\n",
       "      <th>3497</th>\n",
       "      <td>3497</td>\n",
       "      <td>0</td>\n",
       "    </tr>\n",
       "    <tr>\n",
       "      <th>3498</th>\n",
       "      <td>3498</td>\n",
       "      <td>0</td>\n",
       "    </tr>\n",
       "    <tr>\n",
       "      <th>3499</th>\n",
       "      <td>3499</td>\n",
       "      <td>0</td>\n",
       "    </tr>\n",
       "  </tbody>\n",
       "</table>\n",
       "<p>3500 rows × 2 columns</p>\n",
       "</div>"
      ],
      "text/plain": [
       "         cust_id  gender\n",
       "cust_id                 \n",
       "0              0       0\n",
       "1              1       0\n",
       "2              2       1\n",
       "3              3       1\n",
       "4              4       0\n",
       "...          ...     ...\n",
       "3495        3495       1\n",
       "3496        3496       1\n",
       "3497        3497       0\n",
       "3498        3498       0\n",
       "3499        3499       0\n",
       "\n",
       "[3500 rows x 2 columns]"
      ]
     },
     "execution_count": 4,
     "metadata": {},
     "output_type": "execute_result"
    }
   ],
   "source": [
    "y_train"
   ]
  },
  {
   "cell_type": "code",
   "execution_count": 5,
   "id": "6420aae3",
   "metadata": {
    "execution": {
     "iopub.execute_input": "2021-12-02T12:31:41.095001Z",
     "iopub.status.busy": "2021-12-02T12:31:41.094280Z",
     "iopub.status.idle": "2021-12-02T12:31:41.113005Z",
     "shell.execute_reply": "2021-12-02T12:31:41.113615Z",
     "shell.execute_reply.started": "2021-12-02T12:17:19.813212Z"
    },
    "papermill": {
     "duration": 0.069892,
     "end_time": "2021-12-02T12:31:41.113809",
     "exception": false,
     "start_time": "2021-12-02T12:31:41.043917",
     "status": "completed"
    },
    "tags": []
   },
   "outputs": [
    {
     "data": {
      "text/html": [
       "<div>\n",
       "<style scoped>\n",
       "    .dataframe tbody tr th:only-of-type {\n",
       "        vertical-align: middle;\n",
       "    }\n",
       "\n",
       "    .dataframe tbody tr th {\n",
       "        vertical-align: top;\n",
       "    }\n",
       "\n",
       "    .dataframe thead th {\n",
       "        text-align: right;\n",
       "    }\n",
       "</style>\n",
       "<table border=\"1\" class=\"dataframe\">\n",
       "  <thead>\n",
       "    <tr style=\"text-align: right;\">\n",
       "      <th></th>\n",
       "      <th>cust_id</th>\n",
       "      <th>총구매액</th>\n",
       "      <th>최대구매액</th>\n",
       "      <th>환불금액</th>\n",
       "      <th>주구매상품</th>\n",
       "      <th>주구매지점</th>\n",
       "      <th>내점일수</th>\n",
       "      <th>내점당구매건수</th>\n",
       "      <th>주말방문비율</th>\n",
       "      <th>구매주기</th>\n",
       "    </tr>\n",
       "    <tr>\n",
       "      <th>cust_id</th>\n",
       "      <th></th>\n",
       "      <th></th>\n",
       "      <th></th>\n",
       "      <th></th>\n",
       "      <th></th>\n",
       "      <th></th>\n",
       "      <th></th>\n",
       "      <th></th>\n",
       "      <th></th>\n",
       "      <th></th>\n",
       "    </tr>\n",
       "  </thead>\n",
       "  <tbody>\n",
       "    <tr>\n",
       "      <th>3500</th>\n",
       "      <td>3500</td>\n",
       "      <td>70900400</td>\n",
       "      <td>22000000</td>\n",
       "      <td>4050000.0</td>\n",
       "      <td>골프</td>\n",
       "      <td>부산본점</td>\n",
       "      <td>13</td>\n",
       "      <td>1.461538</td>\n",
       "      <td>0.789474</td>\n",
       "      <td>26</td>\n",
       "    </tr>\n",
       "    <tr>\n",
       "      <th>3501</th>\n",
       "      <td>3501</td>\n",
       "      <td>310533100</td>\n",
       "      <td>38558000</td>\n",
       "      <td>48034700.0</td>\n",
       "      <td>농산물</td>\n",
       "      <td>잠실점</td>\n",
       "      <td>90</td>\n",
       "      <td>2.433333</td>\n",
       "      <td>0.369863</td>\n",
       "      <td>3</td>\n",
       "    </tr>\n",
       "    <tr>\n",
       "      <th>3502</th>\n",
       "      <td>3502</td>\n",
       "      <td>305264140</td>\n",
       "      <td>14825000</td>\n",
       "      <td>30521000.0</td>\n",
       "      <td>가공식품</td>\n",
       "      <td>본  점</td>\n",
       "      <td>101</td>\n",
       "      <td>14.623762</td>\n",
       "      <td>0.083277</td>\n",
       "      <td>3</td>\n",
       "    </tr>\n",
       "    <tr>\n",
       "      <th>3503</th>\n",
       "      <td>3503</td>\n",
       "      <td>7594080</td>\n",
       "      <td>5225000</td>\n",
       "      <td>NaN</td>\n",
       "      <td>주방용품</td>\n",
       "      <td>부산본점</td>\n",
       "      <td>5</td>\n",
       "      <td>2.000000</td>\n",
       "      <td>0.000000</td>\n",
       "      <td>47</td>\n",
       "    </tr>\n",
       "    <tr>\n",
       "      <th>3504</th>\n",
       "      <td>3504</td>\n",
       "      <td>1795790</td>\n",
       "      <td>1411200</td>\n",
       "      <td>NaN</td>\n",
       "      <td>수산품</td>\n",
       "      <td>청량리점</td>\n",
       "      <td>3</td>\n",
       "      <td>2.666667</td>\n",
       "      <td>0.125000</td>\n",
       "      <td>8</td>\n",
       "    </tr>\n",
       "    <tr>\n",
       "      <th>...</th>\n",
       "      <td>...</td>\n",
       "      <td>...</td>\n",
       "      <td>...</td>\n",
       "      <td>...</td>\n",
       "      <td>...</td>\n",
       "      <td>...</td>\n",
       "      <td>...</td>\n",
       "      <td>...</td>\n",
       "      <td>...</td>\n",
       "      <td>...</td>\n",
       "    </tr>\n",
       "    <tr>\n",
       "      <th>5977</th>\n",
       "      <td>5977</td>\n",
       "      <td>82581500</td>\n",
       "      <td>23976000</td>\n",
       "      <td>NaN</td>\n",
       "      <td>골프</td>\n",
       "      <td>부산본점</td>\n",
       "      <td>8</td>\n",
       "      <td>1.750000</td>\n",
       "      <td>0.642857</td>\n",
       "      <td>40</td>\n",
       "    </tr>\n",
       "    <tr>\n",
       "      <th>5978</th>\n",
       "      <td>5978</td>\n",
       "      <td>480000</td>\n",
       "      <td>480000</td>\n",
       "      <td>NaN</td>\n",
       "      <td>섬유잡화</td>\n",
       "      <td>광주점</td>\n",
       "      <td>1</td>\n",
       "      <td>1.000000</td>\n",
       "      <td>0.000000</td>\n",
       "      <td>0</td>\n",
       "    </tr>\n",
       "    <tr>\n",
       "      <th>5979</th>\n",
       "      <td>5979</td>\n",
       "      <td>260003790</td>\n",
       "      <td>25750000</td>\n",
       "      <td>NaN</td>\n",
       "      <td>남성 캐주얼</td>\n",
       "      <td>본  점</td>\n",
       "      <td>19</td>\n",
       "      <td>3.736842</td>\n",
       "      <td>0.915493</td>\n",
       "      <td>18</td>\n",
       "    </tr>\n",
       "    <tr>\n",
       "      <th>5980</th>\n",
       "      <td>5980</td>\n",
       "      <td>88991520</td>\n",
       "      <td>18120000</td>\n",
       "      <td>NaN</td>\n",
       "      <td>육류</td>\n",
       "      <td>본  점</td>\n",
       "      <td>5</td>\n",
       "      <td>3.600000</td>\n",
       "      <td>0.444444</td>\n",
       "      <td>60</td>\n",
       "    </tr>\n",
       "    <tr>\n",
       "      <th>5981</th>\n",
       "      <td>5981</td>\n",
       "      <td>623700</td>\n",
       "      <td>209000</td>\n",
       "      <td>NaN</td>\n",
       "      <td>가공식품</td>\n",
       "      <td>영등포점</td>\n",
       "      <td>2</td>\n",
       "      <td>5.000000</td>\n",
       "      <td>0.000000</td>\n",
       "      <td>31</td>\n",
       "    </tr>\n",
       "  </tbody>\n",
       "</table>\n",
       "<p>2482 rows × 10 columns</p>\n",
       "</div>"
      ],
      "text/plain": [
       "         cust_id       총구매액     최대구매액        환불금액   주구매상품 주구매지점  내점일수  \\\n",
       "cust_id                                                                 \n",
       "3500        3500   70900400  22000000   4050000.0      골프  부산본점    13   \n",
       "3501        3501  310533100  38558000  48034700.0     농산물   잠실점    90   \n",
       "3502        3502  305264140  14825000  30521000.0    가공식품  본  점   101   \n",
       "3503        3503    7594080   5225000         NaN    주방용품  부산본점     5   \n",
       "3504        3504    1795790   1411200         NaN     수산품  청량리점     3   \n",
       "...          ...        ...       ...         ...     ...   ...   ...   \n",
       "5977        5977   82581500  23976000         NaN      골프  부산본점     8   \n",
       "5978        5978     480000    480000         NaN    섬유잡화   광주점     1   \n",
       "5979        5979  260003790  25750000         NaN  남성 캐주얼  본  점    19   \n",
       "5980        5980   88991520  18120000         NaN      육류  본  점     5   \n",
       "5981        5981     623700    209000         NaN    가공식품  영등포점     2   \n",
       "\n",
       "           내점당구매건수    주말방문비율  구매주기  \n",
       "cust_id                             \n",
       "3500      1.461538  0.789474    26  \n",
       "3501      2.433333  0.369863     3  \n",
       "3502     14.623762  0.083277     3  \n",
       "3503      2.000000  0.000000    47  \n",
       "3504      2.666667  0.125000     8  \n",
       "...            ...       ...   ...  \n",
       "5977      1.750000  0.642857    40  \n",
       "5978      1.000000  0.000000     0  \n",
       "5979      3.736842  0.915493    18  \n",
       "5980      3.600000  0.444444    60  \n",
       "5981      5.000000  0.000000    31  \n",
       "\n",
       "[2482 rows x 10 columns]"
      ]
     },
     "execution_count": 5,
     "metadata": {},
     "output_type": "execute_result"
    }
   ],
   "source": [
    "x_test"
   ]
  },
  {
   "cell_type": "markdown",
   "id": "486c630e",
   "metadata": {
    "papermill": {
     "duration": 0.047342,
     "end_time": "2021-12-02T12:31:41.208199",
     "exception": false,
     "start_time": "2021-12-02T12:31:41.160857",
     "status": "completed"
    },
    "tags": []
   },
   "source": [
    "### 데이터 전처리 및 EDA"
   ]
  },
  {
   "cell_type": "markdown",
   "id": "cf33840f",
   "metadata": {
    "papermill": {
     "duration": 0.051042,
     "end_time": "2021-12-02T12:31:41.307507",
     "exception": false,
     "start_time": "2021-12-02T12:31:41.256465",
     "status": "completed"
    },
    "tags": []
   },
   "source": [
    "x_test data 결측값 확인"
   ]
  },
  {
   "cell_type": "code",
   "execution_count": 6,
   "id": "b46ea398",
   "metadata": {
    "execution": {
     "iopub.execute_input": "2021-12-02T12:31:41.407332Z",
     "iopub.status.busy": "2021-12-02T12:31:41.406661Z",
     "iopub.status.idle": "2021-12-02T12:31:41.414681Z",
     "shell.execute_reply": "2021-12-02T12:31:41.415322Z",
     "shell.execute_reply.started": "2021-12-02T12:17:19.840116Z"
    },
    "papermill": {
     "duration": 0.059456,
     "end_time": "2021-12-02T12:31:41.415506",
     "exception": false,
     "start_time": "2021-12-02T12:31:41.356050",
     "status": "completed"
    },
    "tags": []
   },
   "outputs": [
    {
     "data": {
      "text/plain": [
       "cust_id       0\n",
       "총구매액          0\n",
       "최대구매액         0\n",
       "환불금액       1611\n",
       "주구매상품         0\n",
       "주구매지점         0\n",
       "내점일수          0\n",
       "내점당구매건수       0\n",
       "주말방문비율        0\n",
       "구매주기          0\n",
       "dtype: int64"
      ]
     },
     "execution_count": 6,
     "metadata": {},
     "output_type": "execute_result"
    }
   ],
   "source": [
    "x_test.isnull().sum()"
   ]
  },
  {
   "cell_type": "markdown",
   "id": "7755a312",
   "metadata": {
    "papermill": {
     "duration": 0.048226,
     "end_time": "2021-12-02T12:31:41.512268",
     "exception": false,
     "start_time": "2021-12-02T12:31:41.464042",
     "status": "completed"
    },
    "tags": []
   },
   "source": [
    "x_test data 결측값 컬럼 정보 확인"
   ]
  },
  {
   "cell_type": "code",
   "execution_count": 7,
   "id": "9da8e3a5",
   "metadata": {
    "execution": {
     "iopub.execute_input": "2021-12-02T12:31:41.611616Z",
     "iopub.status.busy": "2021-12-02T12:31:41.610905Z",
     "iopub.status.idle": "2021-12-02T12:31:41.620560Z",
     "shell.execute_reply": "2021-12-02T12:31:41.621132Z",
     "shell.execute_reply.started": "2021-12-02T12:17:19.855916Z"
    },
    "papermill": {
     "duration": 0.06145,
     "end_time": "2021-12-02T12:31:41.621311",
     "exception": false,
     "start_time": "2021-12-02T12:31:41.559861",
     "status": "completed"
    },
    "tags": []
   },
   "outputs": [
    {
     "data": {
      "text/plain": [
       "count    8.710000e+02\n",
       "mean     2.554716e+07\n",
       "std      5.944074e+07\n",
       "min      1.000000e+04\n",
       "25%      2.414000e+06\n",
       "50%      8.100000e+06\n",
       "75%      2.228090e+07\n",
       "max      8.715144e+08\n",
       "Name: 환불금액, dtype: float64"
      ]
     },
     "execution_count": 7,
     "metadata": {},
     "output_type": "execute_result"
    }
   ],
   "source": [
    "x_test['환불금액'].describe()"
   ]
  },
  {
   "cell_type": "markdown",
   "id": "57dd8ded",
   "metadata": {
    "papermill": {
     "duration": 0.047459,
     "end_time": "2021-12-02T12:31:41.716453",
     "exception": false,
     "start_time": "2021-12-02T12:31:41.668994",
     "status": "completed"
    },
    "tags": []
   },
   "source": [
    " x_train data의 결측값 확인"
   ]
  },
  {
   "cell_type": "code",
   "execution_count": 8,
   "id": "bbdd846a",
   "metadata": {
    "execution": {
     "iopub.execute_input": "2021-12-02T12:31:41.817670Z",
     "iopub.status.busy": "2021-12-02T12:31:41.816772Z",
     "iopub.status.idle": "2021-12-02T12:31:41.825921Z",
     "shell.execute_reply": "2021-12-02T12:31:41.825320Z",
     "shell.execute_reply.started": "2021-12-02T12:17:19.871813Z"
    },
    "papermill": {
     "duration": 0.059987,
     "end_time": "2021-12-02T12:31:41.826082",
     "exception": false,
     "start_time": "2021-12-02T12:31:41.766095",
     "status": "completed"
    },
    "tags": []
   },
   "outputs": [
    {
     "data": {
      "text/plain": [
       "cust_id       0\n",
       "총구매액          0\n",
       "최대구매액         0\n",
       "환불금액       2295\n",
       "주구매상품         0\n",
       "주구매지점         0\n",
       "내점일수          0\n",
       "내점당구매건수       0\n",
       "주말방문비율        0\n",
       "구매주기          0\n",
       "dtype: int64"
      ]
     },
     "execution_count": 8,
     "metadata": {},
     "output_type": "execute_result"
    }
   ],
   "source": [
    "x_train.isnull().sum()"
   ]
  },
  {
   "cell_type": "markdown",
   "id": "7431dec3",
   "metadata": {
    "papermill": {
     "duration": 0.048763,
     "end_time": "2021-12-02T12:31:41.926732",
     "exception": false,
     "start_time": "2021-12-02T12:31:41.877969",
     "status": "completed"
    },
    "tags": []
   },
   "source": [
    "x_train data 결측값 컬럼 정보 확인"
   ]
  },
  {
   "cell_type": "code",
   "execution_count": 9,
   "id": "fab93418",
   "metadata": {
    "execution": {
     "iopub.execute_input": "2021-12-02T12:31:42.035841Z",
     "iopub.status.busy": "2021-12-02T12:31:42.032132Z",
     "iopub.status.idle": "2021-12-02T12:31:42.038944Z",
     "shell.execute_reply": "2021-12-02T12:31:42.039485Z",
     "shell.execute_reply.started": "2021-12-02T12:17:19.883342Z"
    },
    "papermill": {
     "duration": 0.063398,
     "end_time": "2021-12-02T12:31:42.039664",
     "exception": false,
     "start_time": "2021-12-02T12:31:41.976266",
     "status": "completed"
    },
    "tags": []
   },
   "outputs": [
    {
     "data": {
      "text/plain": [
       "count    1.205000e+03\n",
       "mean     2.407822e+07\n",
       "std      4.746453e+07\n",
       "min      5.600000e+03\n",
       "25%      2.259000e+06\n",
       "50%      7.392000e+06\n",
       "75%      2.412000e+07\n",
       "max      5.637530e+08\n",
       "Name: 환불금액, dtype: float64"
      ]
     },
     "execution_count": 9,
     "metadata": {},
     "output_type": "execute_result"
    }
   ],
   "source": [
    "x_train['환불금액'].describe()"
   ]
  },
  {
   "cell_type": "markdown",
   "id": "6147596e",
   "metadata": {
    "papermill": {
     "duration": 0.049732,
     "end_time": "2021-12-02T12:31:42.139064",
     "exception": false,
     "start_time": "2021-12-02T12:31:42.089332",
     "status": "completed"
    },
    "tags": []
   },
   "source": [
    "x_test data와 x_train data의  환불금액 컬럼의 결측값을 0으로 변환"
   ]
  },
  {
   "cell_type": "code",
   "execution_count": 10,
   "id": "704eb273",
   "metadata": {
    "execution": {
     "iopub.execute_input": "2021-12-02T12:31:42.245754Z",
     "iopub.status.busy": "2021-12-02T12:31:42.245040Z",
     "iopub.status.idle": "2021-12-02T12:31:42.251292Z",
     "shell.execute_reply": "2021-12-02T12:31:42.252283Z",
     "shell.execute_reply.started": "2021-12-02T12:17:19.895308Z"
    },
    "papermill": {
     "duration": 0.061344,
     "end_time": "2021-12-02T12:31:42.252526",
     "exception": false,
     "start_time": "2021-12-02T12:31:42.191182",
     "status": "completed"
    },
    "tags": []
   },
   "outputs": [],
   "source": [
    "x_test['환불금액'] = x_test['환불금액'].fillna(0)\n",
    "x_train['환불금액'] = x_train['환불금액'].fillna(0)"
   ]
  },
  {
   "cell_type": "code",
   "execution_count": 11,
   "id": "c44cf13a",
   "metadata": {
    "execution": {
     "iopub.execute_input": "2021-12-02T12:31:42.358924Z",
     "iopub.status.busy": "2021-12-02T12:31:42.357788Z",
     "iopub.status.idle": "2021-12-02T12:31:42.366388Z",
     "shell.execute_reply": "2021-12-02T12:31:42.367102Z",
     "shell.execute_reply.started": "2021-12-02T12:17:19.902299Z"
    },
    "papermill": {
     "duration": 0.063024,
     "end_time": "2021-12-02T12:31:42.367295",
     "exception": false,
     "start_time": "2021-12-02T12:31:42.304271",
     "status": "completed"
    },
    "tags": []
   },
   "outputs": [
    {
     "data": {
      "text/plain": [
       "cust_id    0\n",
       "총구매액       0\n",
       "최대구매액      0\n",
       "환불금액       0\n",
       "주구매상품      0\n",
       "주구매지점      0\n",
       "내점일수       0\n",
       "내점당구매건수    0\n",
       "주말방문비율     0\n",
       "구매주기       0\n",
       "dtype: int64"
      ]
     },
     "execution_count": 11,
     "metadata": {},
     "output_type": "execute_result"
    }
   ],
   "source": [
    "x_test.isnull().sum()"
   ]
  },
  {
   "cell_type": "code",
   "execution_count": 12,
   "id": "a7d0d9d5",
   "metadata": {
    "execution": {
     "iopub.execute_input": "2021-12-02T12:31:42.469424Z",
     "iopub.status.busy": "2021-12-02T12:31:42.468693Z",
     "iopub.status.idle": "2021-12-02T12:31:42.477479Z",
     "shell.execute_reply": "2021-12-02T12:31:42.478051Z",
     "shell.execute_reply.started": "2021-12-02T12:17:19.919998Z"
    },
    "papermill": {
     "duration": 0.061458,
     "end_time": "2021-12-02T12:31:42.478241",
     "exception": false,
     "start_time": "2021-12-02T12:31:42.416783",
     "status": "completed"
    },
    "tags": []
   },
   "outputs": [
    {
     "data": {
      "text/plain": [
       "cust_id    0\n",
       "총구매액       0\n",
       "최대구매액      0\n",
       "환불금액       0\n",
       "주구매상품      0\n",
       "주구매지점      0\n",
       "내점일수       0\n",
       "내점당구매건수    0\n",
       "주말방문비율     0\n",
       "구매주기       0\n",
       "dtype: int64"
      ]
     },
     "execution_count": 12,
     "metadata": {},
     "output_type": "execute_result"
    }
   ],
   "source": [
    "x_train.isnull().sum()"
   ]
  },
  {
   "cell_type": "markdown",
   "id": "45bbc841",
   "metadata": {
    "papermill": {
     "duration": 0.049318,
     "end_time": "2021-12-02T12:31:42.577359",
     "exception": false,
     "start_time": "2021-12-02T12:31:42.528041",
     "status": "completed"
    },
    "tags": []
   },
   "source": [
    "데이터의 데이터 타입 확인"
   ]
  },
  {
   "cell_type": "code",
   "execution_count": 13,
   "id": "8165f265",
   "metadata": {
    "execution": {
     "iopub.execute_input": "2021-12-02T12:31:42.680252Z",
     "iopub.status.busy": "2021-12-02T12:31:42.679510Z",
     "iopub.status.idle": "2021-12-02T12:31:42.686062Z",
     "shell.execute_reply": "2021-12-02T12:31:42.686590Z",
     "shell.execute_reply.started": "2021-12-02T12:17:19.932134Z"
    },
    "papermill": {
     "duration": 0.058921,
     "end_time": "2021-12-02T12:31:42.686771",
     "exception": false,
     "start_time": "2021-12-02T12:31:42.627850",
     "status": "completed"
    },
    "tags": []
   },
   "outputs": [
    {
     "data": {
      "text/plain": [
       "cust_id      int64\n",
       "총구매액         int64\n",
       "최대구매액        int64\n",
       "환불금액       float64\n",
       "주구매상품       object\n",
       "주구매지점       object\n",
       "내점일수         int64\n",
       "내점당구매건수    float64\n",
       "주말방문비율     float64\n",
       "구매주기         int64\n",
       "dtype: object"
      ]
     },
     "execution_count": 13,
     "metadata": {},
     "output_type": "execute_result"
    }
   ],
   "source": [
    "x_test.dtypes"
   ]
  },
  {
   "cell_type": "code",
   "execution_count": 14,
   "id": "e3b98c4f",
   "metadata": {
    "execution": {
     "iopub.execute_input": "2021-12-02T12:31:42.795238Z",
     "iopub.status.busy": "2021-12-02T12:31:42.794287Z",
     "iopub.status.idle": "2021-12-02T12:31:42.802050Z",
     "shell.execute_reply": "2021-12-02T12:31:42.801394Z",
     "shell.execute_reply.started": "2021-12-02T12:17:19.949752Z"
    },
    "papermill": {
     "duration": 0.064852,
     "end_time": "2021-12-02T12:31:42.802214",
     "exception": false,
     "start_time": "2021-12-02T12:31:42.737362",
     "status": "completed"
    },
    "tags": []
   },
   "outputs": [
    {
     "data": {
      "text/plain": [
       "cust_id      int64\n",
       "총구매액         int64\n",
       "최대구매액        int64\n",
       "환불금액       float64\n",
       "주구매상품       object\n",
       "주구매지점       object\n",
       "내점일수         int64\n",
       "내점당구매건수    float64\n",
       "주말방문비율     float64\n",
       "구매주기         int64\n",
       "dtype: object"
      ]
     },
     "execution_count": 14,
     "metadata": {},
     "output_type": "execute_result"
    }
   ],
   "source": [
    "x_train.dtypes"
   ]
  },
  {
   "cell_type": "markdown",
   "id": "d979464f",
   "metadata": {
    "papermill": {
     "duration": 0.050653,
     "end_time": "2021-12-02T12:31:42.907269",
     "exception": false,
     "start_time": "2021-12-02T12:31:42.856616",
     "status": "completed"
    },
    "tags": []
   },
   "source": [
    "object데이터는 모델학습에 사용하려면 변환해 주어야함."
   ]
  },
  {
   "cell_type": "code",
   "execution_count": 15,
   "id": "66a1522e",
   "metadata": {
    "execution": {
     "iopub.execute_input": "2021-12-02T12:31:43.010321Z",
     "iopub.status.busy": "2021-12-02T12:31:43.009616Z",
     "iopub.status.idle": "2021-12-02T12:31:44.009921Z",
     "shell.execute_reply": "2021-12-02T12:31:44.010467Z",
     "shell.execute_reply.started": "2021-12-02T12:17:19.961250Z"
    },
    "papermill": {
     "duration": 1.053591,
     "end_time": "2021-12-02T12:31:44.010674",
     "exception": false,
     "start_time": "2021-12-02T12:31:42.957083",
     "status": "completed"
    },
    "tags": []
   },
   "outputs": [],
   "source": [
    "from sklearn.preprocessing import LabelEncoder"
   ]
  },
  {
   "cell_type": "code",
   "execution_count": 16,
   "id": "bd2382c0",
   "metadata": {
    "execution": {
     "iopub.execute_input": "2021-12-02T12:31:44.117348Z",
     "iopub.status.busy": "2021-12-02T12:31:44.116628Z",
     "iopub.status.idle": "2021-12-02T12:31:44.139454Z",
     "shell.execute_reply": "2021-12-02T12:31:44.140009Z",
     "shell.execute_reply.started": "2021-12-02T12:17:19.971422Z"
    },
    "papermill": {
     "duration": 0.0784,
     "end_time": "2021-12-02T12:31:44.140193",
     "exception": false,
     "start_time": "2021-12-02T12:31:44.061793",
     "status": "completed"
    },
    "tags": []
   },
   "outputs": [],
   "source": [
    "x_train.loc[:,['주구매상품', '주구매지점']] = x_train.loc[:,['주구매상품', '주구매지점']].apply(LabelEncoder().fit_transform)\n",
    "x_test.loc[:,['주구매상품', '주구매지점']] = x_test.loc[:,['주구매상품', '주구매지점']].apply(LabelEncoder().fit_transform)"
   ]
  },
  {
   "cell_type": "markdown",
   "id": "66c71530",
   "metadata": {
    "papermill": {
     "duration": 0.049709,
     "end_time": "2021-12-02T12:31:44.239186",
     "exception": false,
     "start_time": "2021-12-02T12:31:44.189477",
     "status": "completed"
    },
    "tags": []
   },
   "source": [
    "데이터 타입 변환됐는지 확인해본다."
   ]
  },
  {
   "cell_type": "code",
   "execution_count": 17,
   "id": "f2c37f6e",
   "metadata": {
    "execution": {
     "iopub.execute_input": "2021-12-02T12:31:44.342271Z",
     "iopub.status.busy": "2021-12-02T12:31:44.341574Z",
     "iopub.status.idle": "2021-12-02T12:31:44.348105Z",
     "shell.execute_reply": "2021-12-02T12:31:44.348699Z",
     "shell.execute_reply.started": "2021-12-02T12:17:19.994157Z"
    },
    "papermill": {
     "duration": 0.060507,
     "end_time": "2021-12-02T12:31:44.348890",
     "exception": false,
     "start_time": "2021-12-02T12:31:44.288383",
     "status": "completed"
    },
    "tags": []
   },
   "outputs": [
    {
     "data": {
      "text/plain": [
       "cust_id      int64\n",
       "총구매액         int64\n",
       "최대구매액        int64\n",
       "환불금액       float64\n",
       "주구매상품        int64\n",
       "주구매지점        int64\n",
       "내점일수         int64\n",
       "내점당구매건수    float64\n",
       "주말방문비율     float64\n",
       "구매주기         int64\n",
       "dtype: object"
      ]
     },
     "execution_count": 17,
     "metadata": {},
     "output_type": "execute_result"
    }
   ],
   "source": [
    "x_test.dtypes"
   ]
  },
  {
   "cell_type": "raw",
   "id": "0f921698",
   "metadata": {
    "execution": {
     "iopub.execute_input": "2021-12-01T14:38:28.743514Z",
     "iopub.status.busy": "2021-12-01T14:38:28.742834Z",
     "iopub.status.idle": "2021-12-01T14:38:28.751288Z",
     "shell.execute_reply": "2021-12-01T14:38:28.75065Z",
     "shell.execute_reply.started": "2021-12-01T14:38:28.743469Z"
    },
    "papermill": {
     "duration": 0.05035,
     "end_time": "2021-12-02T12:31:44.450751",
     "exception": false,
     "start_time": "2021-12-02T12:31:44.400401",
     "status": "completed"
    },
    "tags": []
   },
   "source": [
    "x_train.dtypes"
   ]
  },
  {
   "cell_type": "markdown",
   "id": "2b5663cd",
   "metadata": {
    "papermill": {
     "duration": 0.049629,
     "end_time": "2021-12-02T12:31:44.550519",
     "exception": false,
     "start_time": "2021-12-02T12:31:44.500890",
     "status": "completed"
    },
    "tags": []
   },
   "source": [
    "### 모델학습에 사용할 피쳐 지정"
   ]
  },
  {
   "cell_type": "code",
   "execution_count": 18,
   "id": "6f368f76",
   "metadata": {
    "execution": {
     "iopub.execute_input": "2021-12-02T12:31:44.655612Z",
     "iopub.status.busy": "2021-12-02T12:31:44.654935Z",
     "iopub.status.idle": "2021-12-02T12:31:44.658598Z",
     "shell.execute_reply": "2021-12-02T12:31:44.659255Z",
     "shell.execute_reply.started": "2021-12-02T12:17:20.002906Z"
    },
    "papermill": {
     "duration": 0.057983,
     "end_time": "2021-12-02T12:31:44.659442",
     "exception": false,
     "start_time": "2021-12-02T12:31:44.601459",
     "status": "completed"
    },
    "tags": []
   },
   "outputs": [],
   "source": [
    "features = ['총구매액', '최대구매액', '환불금액', '주구매상품', '주구매지점', '내점일수', '내점당구매건수', '주말방문비율', '구매주기']"
   ]
  },
  {
   "cell_type": "code",
   "execution_count": 19,
   "id": "fcda13a4",
   "metadata": {
    "execution": {
     "iopub.execute_input": "2021-12-02T12:31:44.763296Z",
     "iopub.status.busy": "2021-12-02T12:31:44.762584Z",
     "iopub.status.idle": "2021-12-02T12:31:44.767587Z",
     "shell.execute_reply": "2021-12-02T12:31:44.768183Z",
     "shell.execute_reply.started": "2021-12-02T12:17:20.011334Z"
    },
    "papermill": {
     "duration": 0.058873,
     "end_time": "2021-12-02T12:31:44.768369",
     "exception": false,
     "start_time": "2021-12-02T12:31:44.709496",
     "status": "completed"
    },
    "tags": []
   },
   "outputs": [],
   "source": [
    "X = x_train[features]"
   ]
  },
  {
   "cell_type": "code",
   "execution_count": 20,
   "id": "25af5616",
   "metadata": {
    "execution": {
     "iopub.execute_input": "2021-12-02T12:31:44.873690Z",
     "iopub.status.busy": "2021-12-02T12:31:44.873035Z",
     "iopub.status.idle": "2021-12-02T12:31:44.893074Z",
     "shell.execute_reply": "2021-12-02T12:31:44.892434Z",
     "shell.execute_reply.started": "2021-12-02T12:17:20.027280Z"
    },
    "papermill": {
     "duration": 0.073161,
     "end_time": "2021-12-02T12:31:44.893231",
     "exception": false,
     "start_time": "2021-12-02T12:31:44.820070",
     "status": "completed"
    },
    "tags": []
   },
   "outputs": [
    {
     "data": {
      "text/html": [
       "<div>\n",
       "<style scoped>\n",
       "    .dataframe tbody tr th:only-of-type {\n",
       "        vertical-align: middle;\n",
       "    }\n",
       "\n",
       "    .dataframe tbody tr th {\n",
       "        vertical-align: top;\n",
       "    }\n",
       "\n",
       "    .dataframe thead th {\n",
       "        text-align: right;\n",
       "    }\n",
       "</style>\n",
       "<table border=\"1\" class=\"dataframe\">\n",
       "  <thead>\n",
       "    <tr style=\"text-align: right;\">\n",
       "      <th></th>\n",
       "      <th>총구매액</th>\n",
       "      <th>최대구매액</th>\n",
       "      <th>환불금액</th>\n",
       "      <th>주구매상품</th>\n",
       "      <th>주구매지점</th>\n",
       "      <th>내점일수</th>\n",
       "      <th>내점당구매건수</th>\n",
       "      <th>주말방문비율</th>\n",
       "      <th>구매주기</th>\n",
       "    </tr>\n",
       "    <tr>\n",
       "      <th>cust_id</th>\n",
       "      <th></th>\n",
       "      <th></th>\n",
       "      <th></th>\n",
       "      <th></th>\n",
       "      <th></th>\n",
       "      <th></th>\n",
       "      <th></th>\n",
       "      <th></th>\n",
       "      <th></th>\n",
       "    </tr>\n",
       "  </thead>\n",
       "  <tbody>\n",
       "    <tr>\n",
       "      <th>0</th>\n",
       "      <td>68282840</td>\n",
       "      <td>11264000</td>\n",
       "      <td>6860000.0</td>\n",
       "      <td>5</td>\n",
       "      <td>0</td>\n",
       "      <td>19</td>\n",
       "      <td>3.894737</td>\n",
       "      <td>0.527027</td>\n",
       "      <td>17</td>\n",
       "    </tr>\n",
       "    <tr>\n",
       "      <th>1</th>\n",
       "      <td>2136000</td>\n",
       "      <td>2136000</td>\n",
       "      <td>300000.0</td>\n",
       "      <td>21</td>\n",
       "      <td>19</td>\n",
       "      <td>2</td>\n",
       "      <td>1.500000</td>\n",
       "      <td>0.000000</td>\n",
       "      <td>1</td>\n",
       "    </tr>\n",
       "    <tr>\n",
       "      <th>2</th>\n",
       "      <td>3197000</td>\n",
       "      <td>1639000</td>\n",
       "      <td>0.0</td>\n",
       "      <td>6</td>\n",
       "      <td>1</td>\n",
       "      <td>2</td>\n",
       "      <td>2.000000</td>\n",
       "      <td>0.000000</td>\n",
       "      <td>1</td>\n",
       "    </tr>\n",
       "    <tr>\n",
       "      <th>3</th>\n",
       "      <td>16077620</td>\n",
       "      <td>4935000</td>\n",
       "      <td>0.0</td>\n",
       "      <td>5</td>\n",
       "      <td>2</td>\n",
       "      <td>18</td>\n",
       "      <td>2.444444</td>\n",
       "      <td>0.318182</td>\n",
       "      <td>16</td>\n",
       "    </tr>\n",
       "    <tr>\n",
       "      <th>4</th>\n",
       "      <td>29050000</td>\n",
       "      <td>24000000</td>\n",
       "      <td>0.0</td>\n",
       "      <td>15</td>\n",
       "      <td>8</td>\n",
       "      <td>2</td>\n",
       "      <td>1.500000</td>\n",
       "      <td>0.000000</td>\n",
       "      <td>85</td>\n",
       "    </tr>\n",
       "    <tr>\n",
       "      <th>...</th>\n",
       "      <td>...</td>\n",
       "      <td>...</td>\n",
       "      <td>...</td>\n",
       "      <td>...</td>\n",
       "      <td>...</td>\n",
       "      <td>...</td>\n",
       "      <td>...</td>\n",
       "      <td>...</td>\n",
       "      <td>...</td>\n",
       "    </tr>\n",
       "    <tr>\n",
       "      <th>3495</th>\n",
       "      <td>3175200</td>\n",
       "      <td>3042900</td>\n",
       "      <td>0.0</td>\n",
       "      <td>3</td>\n",
       "      <td>8</td>\n",
       "      <td>1</td>\n",
       "      <td>2.000000</td>\n",
       "      <td>1.000000</td>\n",
       "      <td>0</td>\n",
       "    </tr>\n",
       "    <tr>\n",
       "      <th>3496</th>\n",
       "      <td>29628600</td>\n",
       "      <td>7200000</td>\n",
       "      <td>6049600.0</td>\n",
       "      <td>22</td>\n",
       "      <td>9</td>\n",
       "      <td>8</td>\n",
       "      <td>1.625000</td>\n",
       "      <td>0.461538</td>\n",
       "      <td>40</td>\n",
       "    </tr>\n",
       "    <tr>\n",
       "      <th>3497</th>\n",
       "      <td>75000</td>\n",
       "      <td>75000</td>\n",
       "      <td>0.0</td>\n",
       "      <td>32</td>\n",
       "      <td>21</td>\n",
       "      <td>1</td>\n",
       "      <td>1.000000</td>\n",
       "      <td>0.000000</td>\n",
       "      <td>0</td>\n",
       "    </tr>\n",
       "    <tr>\n",
       "      <th>3498</th>\n",
       "      <td>1875000</td>\n",
       "      <td>1000000</td>\n",
       "      <td>0.0</td>\n",
       "      <td>41</td>\n",
       "      <td>8</td>\n",
       "      <td>2</td>\n",
       "      <td>1.000000</td>\n",
       "      <td>0.000000</td>\n",
       "      <td>39</td>\n",
       "    </tr>\n",
       "    <tr>\n",
       "      <th>3499</th>\n",
       "      <td>263101550</td>\n",
       "      <td>34632000</td>\n",
       "      <td>5973000.0</td>\n",
       "      <td>5</td>\n",
       "      <td>8</td>\n",
       "      <td>38</td>\n",
       "      <td>2.421053</td>\n",
       "      <td>0.467391</td>\n",
       "      <td>8</td>\n",
       "    </tr>\n",
       "  </tbody>\n",
       "</table>\n",
       "<p>3500 rows × 9 columns</p>\n",
       "</div>"
      ],
      "text/plain": [
       "              총구매액     최대구매액       환불금액  주구매상품  주구매지점  내점일수   내점당구매건수  \\\n",
       "cust_id                                                                 \n",
       "0         68282840  11264000  6860000.0      5      0    19  3.894737   \n",
       "1          2136000   2136000   300000.0     21     19     2  1.500000   \n",
       "2          3197000   1639000        0.0      6      1     2  2.000000   \n",
       "3         16077620   4935000        0.0      5      2    18  2.444444   \n",
       "4         29050000  24000000        0.0     15      8     2  1.500000   \n",
       "...            ...       ...        ...    ...    ...   ...       ...   \n",
       "3495       3175200   3042900        0.0      3      8     1  2.000000   \n",
       "3496      29628600   7200000  6049600.0     22      9     8  1.625000   \n",
       "3497         75000     75000        0.0     32     21     1  1.000000   \n",
       "3498       1875000   1000000        0.0     41      8     2  1.000000   \n",
       "3499     263101550  34632000  5973000.0      5      8    38  2.421053   \n",
       "\n",
       "           주말방문비율  구매주기  \n",
       "cust_id                  \n",
       "0        0.527027    17  \n",
       "1        0.000000     1  \n",
       "2        0.000000     1  \n",
       "3        0.318182    16  \n",
       "4        0.000000    85  \n",
       "...           ...   ...  \n",
       "3495     1.000000     0  \n",
       "3496     0.461538    40  \n",
       "3497     0.000000     0  \n",
       "3498     0.000000    39  \n",
       "3499     0.467391     8  \n",
       "\n",
       "[3500 rows x 9 columns]"
      ]
     },
     "execution_count": 20,
     "metadata": {},
     "output_type": "execute_result"
    }
   ],
   "source": [
    "X"
   ]
  },
  {
   "cell_type": "code",
   "execution_count": 21,
   "id": "b9ec752e",
   "metadata": {
    "execution": {
     "iopub.execute_input": "2021-12-02T12:31:44.999211Z",
     "iopub.status.busy": "2021-12-02T12:31:44.998546Z",
     "iopub.status.idle": "2021-12-02T12:31:45.002637Z",
     "shell.execute_reply": "2021-12-02T12:31:45.003171Z",
     "shell.execute_reply.started": "2021-12-02T12:17:20.050776Z"
    },
    "papermill": {
     "duration": 0.058688,
     "end_time": "2021-12-02T12:31:45.003348",
     "exception": false,
     "start_time": "2021-12-02T12:31:44.944660",
     "status": "completed"
    },
    "tags": []
   },
   "outputs": [],
   "source": [
    "Y = y_train['gender']"
   ]
  },
  {
   "cell_type": "code",
   "execution_count": 22,
   "id": "acf48f66",
   "metadata": {
    "execution": {
     "iopub.execute_input": "2021-12-02T12:31:45.109872Z",
     "iopub.status.busy": "2021-12-02T12:31:45.109211Z",
     "iopub.status.idle": "2021-12-02T12:31:45.115181Z",
     "shell.execute_reply": "2021-12-02T12:31:45.115765Z",
     "shell.execute_reply.started": "2021-12-02T12:17:20.057033Z"
    },
    "papermill": {
     "duration": 0.060519,
     "end_time": "2021-12-02T12:31:45.115973",
     "exception": false,
     "start_time": "2021-12-02T12:31:45.055454",
     "status": "completed"
    },
    "tags": []
   },
   "outputs": [
    {
     "data": {
      "text/plain": [
       "cust_id\n",
       "0       0\n",
       "1       0\n",
       "2       1\n",
       "3       1\n",
       "4       0\n",
       "       ..\n",
       "3495    1\n",
       "3496    1\n",
       "3497    0\n",
       "3498    0\n",
       "3499    0\n",
       "Name: gender, Length: 3500, dtype: int64"
      ]
     },
     "execution_count": 22,
     "metadata": {},
     "output_type": "execute_result"
    }
   ],
   "source": [
    "Y"
   ]
  },
  {
   "cell_type": "code",
   "execution_count": 23,
   "id": "8896548a",
   "metadata": {
    "execution": {
     "iopub.execute_input": "2021-12-02T12:31:45.222573Z",
     "iopub.status.busy": "2021-12-02T12:31:45.221837Z",
     "iopub.status.idle": "2021-12-02T12:31:45.240920Z",
     "shell.execute_reply": "2021-12-02T12:31:45.241442Z",
     "shell.execute_reply.started": "2021-12-02T12:17:20.071853Z"
    },
    "papermill": {
     "duration": 0.074585,
     "end_time": "2021-12-02T12:31:45.241623",
     "exception": false,
     "start_time": "2021-12-02T12:31:45.167038",
     "status": "completed"
    },
    "tags": []
   },
   "outputs": [
    {
     "data": {
      "text/html": [
       "<div>\n",
       "<style scoped>\n",
       "    .dataframe tbody tr th:only-of-type {\n",
       "        vertical-align: middle;\n",
       "    }\n",
       "\n",
       "    .dataframe tbody tr th {\n",
       "        vertical-align: top;\n",
       "    }\n",
       "\n",
       "    .dataframe thead th {\n",
       "        text-align: right;\n",
       "    }\n",
       "</style>\n",
       "<table border=\"1\" class=\"dataframe\">\n",
       "  <thead>\n",
       "    <tr style=\"text-align: right;\">\n",
       "      <th></th>\n",
       "      <th>총구매액</th>\n",
       "      <th>최대구매액</th>\n",
       "      <th>환불금액</th>\n",
       "      <th>주구매상품</th>\n",
       "      <th>주구매지점</th>\n",
       "      <th>내점일수</th>\n",
       "      <th>내점당구매건수</th>\n",
       "      <th>주말방문비율</th>\n",
       "      <th>구매주기</th>\n",
       "    </tr>\n",
       "    <tr>\n",
       "      <th>cust_id</th>\n",
       "      <th></th>\n",
       "      <th></th>\n",
       "      <th></th>\n",
       "      <th></th>\n",
       "      <th></th>\n",
       "      <th></th>\n",
       "      <th></th>\n",
       "      <th></th>\n",
       "      <th></th>\n",
       "    </tr>\n",
       "  </thead>\n",
       "  <tbody>\n",
       "    <tr>\n",
       "      <th>3500</th>\n",
       "      <td>70900400</td>\n",
       "      <td>22000000</td>\n",
       "      <td>4050000.0</td>\n",
       "      <td>3</td>\n",
       "      <td>9</td>\n",
       "      <td>13</td>\n",
       "      <td>1.461538</td>\n",
       "      <td>0.789474</td>\n",
       "      <td>26</td>\n",
       "    </tr>\n",
       "    <tr>\n",
       "      <th>3501</th>\n",
       "      <td>310533100</td>\n",
       "      <td>38558000</td>\n",
       "      <td>48034700.0</td>\n",
       "      <td>9</td>\n",
       "      <td>19</td>\n",
       "      <td>90</td>\n",
       "      <td>2.433333</td>\n",
       "      <td>0.369863</td>\n",
       "      <td>3</td>\n",
       "    </tr>\n",
       "    <tr>\n",
       "      <th>3502</th>\n",
       "      <td>305264140</td>\n",
       "      <td>14825000</td>\n",
       "      <td>30521000.0</td>\n",
       "      <td>0</td>\n",
       "      <td>8</td>\n",
       "      <td>101</td>\n",
       "      <td>14.623762</td>\n",
       "      <td>0.083277</td>\n",
       "      <td>3</td>\n",
       "    </tr>\n",
       "    <tr>\n",
       "      <th>3503</th>\n",
       "      <td>7594080</td>\n",
       "      <td>5225000</td>\n",
       "      <td>0.0</td>\n",
       "      <td>31</td>\n",
       "      <td>9</td>\n",
       "      <td>5</td>\n",
       "      <td>2.000000</td>\n",
       "      <td>0.000000</td>\n",
       "      <td>47</td>\n",
       "    </tr>\n",
       "    <tr>\n",
       "      <th>3504</th>\n",
       "      <td>1795790</td>\n",
       "      <td>1411200</td>\n",
       "      <td>0.0</td>\n",
       "      <td>19</td>\n",
       "      <td>22</td>\n",
       "      <td>3</td>\n",
       "      <td>2.666667</td>\n",
       "      <td>0.125000</td>\n",
       "      <td>8</td>\n",
       "    </tr>\n",
       "    <tr>\n",
       "      <th>...</th>\n",
       "      <td>...</td>\n",
       "      <td>...</td>\n",
       "      <td>...</td>\n",
       "      <td>...</td>\n",
       "      <td>...</td>\n",
       "      <td>...</td>\n",
       "      <td>...</td>\n",
       "      <td>...</td>\n",
       "      <td>...</td>\n",
       "    </tr>\n",
       "    <tr>\n",
       "      <th>5977</th>\n",
       "      <td>82581500</td>\n",
       "      <td>23976000</td>\n",
       "      <td>0.0</td>\n",
       "      <td>3</td>\n",
       "      <td>9</td>\n",
       "      <td>8</td>\n",
       "      <td>1.750000</td>\n",
       "      <td>0.642857</td>\n",
       "      <td>40</td>\n",
       "    </tr>\n",
       "    <tr>\n",
       "      <th>5978</th>\n",
       "      <td>480000</td>\n",
       "      <td>480000</td>\n",
       "      <td>0.0</td>\n",
       "      <td>17</td>\n",
       "      <td>2</td>\n",
       "      <td>1</td>\n",
       "      <td>1.000000</td>\n",
       "      <td>0.000000</td>\n",
       "      <td>0</td>\n",
       "    </tr>\n",
       "    <tr>\n",
       "      <th>5979</th>\n",
       "      <td>260003790</td>\n",
       "      <td>25750000</td>\n",
       "      <td>0.0</td>\n",
       "      <td>6</td>\n",
       "      <td>8</td>\n",
       "      <td>19</td>\n",
       "      <td>3.736842</td>\n",
       "      <td>0.915493</td>\n",
       "      <td>18</td>\n",
       "    </tr>\n",
       "    <tr>\n",
       "      <th>5980</th>\n",
       "      <td>88991520</td>\n",
       "      <td>18120000</td>\n",
       "      <td>0.0</td>\n",
       "      <td>26</td>\n",
       "      <td>8</td>\n",
       "      <td>5</td>\n",
       "      <td>3.600000</td>\n",
       "      <td>0.444444</td>\n",
       "      <td>60</td>\n",
       "    </tr>\n",
       "    <tr>\n",
       "      <th>5981</th>\n",
       "      <td>623700</td>\n",
       "      <td>209000</td>\n",
       "      <td>0.0</td>\n",
       "      <td>0</td>\n",
       "      <td>15</td>\n",
       "      <td>2</td>\n",
       "      <td>5.000000</td>\n",
       "      <td>0.000000</td>\n",
       "      <td>31</td>\n",
       "    </tr>\n",
       "  </tbody>\n",
       "</table>\n",
       "<p>2482 rows × 9 columns</p>\n",
       "</div>"
      ],
      "text/plain": [
       "              총구매액     최대구매액        환불금액  주구매상품  주구매지점  내점일수    내점당구매건수  \\\n",
       "cust_id                                                                   \n",
       "3500      70900400  22000000   4050000.0      3      9    13   1.461538   \n",
       "3501     310533100  38558000  48034700.0      9     19    90   2.433333   \n",
       "3502     305264140  14825000  30521000.0      0      8   101  14.623762   \n",
       "3503       7594080   5225000         0.0     31      9     5   2.000000   \n",
       "3504       1795790   1411200         0.0     19     22     3   2.666667   \n",
       "...            ...       ...         ...    ...    ...   ...        ...   \n",
       "5977      82581500  23976000         0.0      3      9     8   1.750000   \n",
       "5978        480000    480000         0.0     17      2     1   1.000000   \n",
       "5979     260003790  25750000         0.0      6      8    19   3.736842   \n",
       "5980      88991520  18120000         0.0     26      8     5   3.600000   \n",
       "5981        623700    209000         0.0      0     15     2   5.000000   \n",
       "\n",
       "           주말방문비율  구매주기  \n",
       "cust_id                  \n",
       "3500     0.789474    26  \n",
       "3501     0.369863     3  \n",
       "3502     0.083277     3  \n",
       "3503     0.000000    47  \n",
       "3504     0.125000     8  \n",
       "...           ...   ...  \n",
       "5977     0.642857    40  \n",
       "5978     0.000000     0  \n",
       "5979     0.915493    18  \n",
       "5980     0.444444    60  \n",
       "5981     0.000000    31  \n",
       "\n",
       "[2482 rows x 9 columns]"
      ]
     },
     "execution_count": 23,
     "metadata": {},
     "output_type": "execute_result"
    }
   ],
   "source": [
    "x_test[features] #x_test data는 학습에 사용하지 않음"
   ]
  },
  {
   "cell_type": "markdown",
   "id": "5a1c587c",
   "metadata": {
    "papermill": {
     "duration": 0.052614,
     "end_time": "2021-12-02T12:31:45.346544",
     "exception": false,
     "start_time": "2021-12-02T12:31:45.293930",
     "status": "completed"
    },
    "tags": []
   },
   "source": [
    "### 학습셋과 검증셋을 분리"
   ]
  },
  {
   "cell_type": "code",
   "execution_count": 24,
   "id": "ccdaa4f9",
   "metadata": {
    "execution": {
     "iopub.execute_input": "2021-12-02T12:31:45.459547Z",
     "iopub.status.busy": "2021-12-02T12:31:45.456657Z",
     "iopub.status.idle": "2021-12-02T12:31:45.525976Z",
     "shell.execute_reply": "2021-12-02T12:31:45.525261Z",
     "shell.execute_reply.started": "2021-12-02T12:17:20.095419Z"
    },
    "papermill": {
     "duration": 0.125886,
     "end_time": "2021-12-02T12:31:45.526138",
     "exception": false,
     "start_time": "2021-12-02T12:31:45.400252",
     "status": "completed"
    },
    "tags": []
   },
   "outputs": [
    {
     "data": {
      "text/plain": [
       "'\\nimport numpy as np\\n    >>> from sklearn.model_selection import train_test_split\\n    >>> X, y = np.arange(10).reshape((5, 2)), range(5)\\n    >>> X\\n    array([[0, 1],\\n           [2, 3],\\n           [4, 5],\\n           [6, 7],\\n           [8, 9]])\\n    >>> list(y)\\n    [0, 1, 2, 3, 4]\\n    \\n    >>> X_train, X_test, y_train, y_test = train_test_split(\\n    ...     X, y, test_size=0.33, random_state=42)\\n    ...\\n    >>> X_train\\n    array([[4, 5],\\n           [0, 1],\\n           [6, 7]])\\n    >>> y_train\\n    [2, 0, 3]\\n    >>> X_test\\n    array([[2, 3],\\n           [8, 9]])\\n    >>> y_test\\n    [1, 4]\\n    \\n    >>> train_test_split(y, shuffle=False)\\n    [[0, 1, 2], [3, 4]]\\n    '"
      ]
     },
     "execution_count": 24,
     "metadata": {},
     "output_type": "execute_result"
    }
   ],
   "source": [
    "from sklearn.model_selection import train_test_split\n",
    "\n",
    "'''\n",
    "import numpy as np\n",
    "    >>> from sklearn.model_selection import train_test_split\n",
    "    >>> X, y = np.arange(10).reshape((5, 2)), range(5)\n",
    "    >>> X\n",
    "    array([[0, 1],\n",
    "           [2, 3],\n",
    "           [4, 5],\n",
    "           [6, 7],\n",
    "           [8, 9]])\n",
    "    >>> list(y)\n",
    "    [0, 1, 2, 3, 4]\n",
    "    \n",
    "    >>> X_train, X_test, y_train, y_test = train_test_split(\n",
    "    ...     X, y, test_size=0.33, random_state=42)\n",
    "    ...\n",
    "    >>> X_train\n",
    "    array([[4, 5],\n",
    "           [0, 1],\n",
    "           [6, 7]])\n",
    "    >>> y_train\n",
    "    [2, 0, 3]\n",
    "    >>> X_test\n",
    "    array([[2, 3],\n",
    "           [8, 9]])\n",
    "    >>> y_test\n",
    "    [1, 4]\n",
    "    \n",
    "    >>> train_test_split(y, shuffle=False)\n",
    "    [[0, 1, 2], [3, 4]]\n",
    "    '''"
   ]
  },
  {
   "cell_type": "code",
   "execution_count": 25,
   "id": "19a5993e",
   "metadata": {
    "execution": {
     "iopub.execute_input": "2021-12-02T12:31:45.639106Z",
     "iopub.status.busy": "2021-12-02T12:31:45.638361Z",
     "iopub.status.idle": "2021-12-02T12:31:45.642261Z",
     "shell.execute_reply": "2021-12-02T12:31:45.642817Z",
     "shell.execute_reply.started": "2021-12-02T12:17:20.111241Z"
    },
    "papermill": {
     "duration": 0.063551,
     "end_time": "2021-12-02T12:31:45.643025",
     "exception": false,
     "start_time": "2021-12-02T12:31:45.579474",
     "status": "completed"
    },
    "tags": []
   },
   "outputs": [],
   "source": [
    "import numpy as np\n",
    "\n",
    "x_train, x_valid, y_train, y_valid = train_test_split(X, Y, random_state=0)"
   ]
  },
  {
   "cell_type": "code",
   "execution_count": 26,
   "id": "86d50c7c",
   "metadata": {
    "execution": {
     "iopub.execute_input": "2021-12-02T12:31:45.750446Z",
     "iopub.status.busy": "2021-12-02T12:31:45.749784Z",
     "iopub.status.idle": "2021-12-02T12:31:45.768087Z",
     "shell.execute_reply": "2021-12-02T12:31:45.767547Z",
     "shell.execute_reply.started": "2021-12-02T12:17:20.125465Z"
    },
    "papermill": {
     "duration": 0.07317,
     "end_time": "2021-12-02T12:31:45.768235",
     "exception": false,
     "start_time": "2021-12-02T12:31:45.695065",
     "status": "completed"
    },
    "tags": []
   },
   "outputs": [
    {
     "data": {
      "text/html": [
       "<div>\n",
       "<style scoped>\n",
       "    .dataframe tbody tr th:only-of-type {\n",
       "        vertical-align: middle;\n",
       "    }\n",
       "\n",
       "    .dataframe tbody tr th {\n",
       "        vertical-align: top;\n",
       "    }\n",
       "\n",
       "    .dataframe thead th {\n",
       "        text-align: right;\n",
       "    }\n",
       "</style>\n",
       "<table border=\"1\" class=\"dataframe\">\n",
       "  <thead>\n",
       "    <tr style=\"text-align: right;\">\n",
       "      <th></th>\n",
       "      <th>총구매액</th>\n",
       "      <th>최대구매액</th>\n",
       "      <th>환불금액</th>\n",
       "      <th>주구매상품</th>\n",
       "      <th>주구매지점</th>\n",
       "      <th>내점일수</th>\n",
       "      <th>내점당구매건수</th>\n",
       "      <th>주말방문비율</th>\n",
       "      <th>구매주기</th>\n",
       "    </tr>\n",
       "    <tr>\n",
       "      <th>cust_id</th>\n",
       "      <th></th>\n",
       "      <th></th>\n",
       "      <th></th>\n",
       "      <th></th>\n",
       "      <th></th>\n",
       "      <th></th>\n",
       "      <th></th>\n",
       "      <th></th>\n",
       "      <th></th>\n",
       "    </tr>\n",
       "  </thead>\n",
       "  <tbody>\n",
       "    <tr>\n",
       "      <th>1410</th>\n",
       "      <td>1560000</td>\n",
       "      <td>1495000</td>\n",
       "      <td>0.0</td>\n",
       "      <td>12</td>\n",
       "      <td>15</td>\n",
       "      <td>1</td>\n",
       "      <td>2.000000</td>\n",
       "      <td>0.000000</td>\n",
       "      <td>0</td>\n",
       "    </tr>\n",
       "    <tr>\n",
       "      <th>1310</th>\n",
       "      <td>4832810</td>\n",
       "      <td>980000</td>\n",
       "      <td>2411200.0</td>\n",
       "      <td>0</td>\n",
       "      <td>1</td>\n",
       "      <td>13</td>\n",
       "      <td>5.384615</td>\n",
       "      <td>0.157143</td>\n",
       "      <td>24</td>\n",
       "    </tr>\n",
       "    <tr>\n",
       "      <th>2140</th>\n",
       "      <td>58564760</td>\n",
       "      <td>21408000</td>\n",
       "      <td>69635400.0</td>\n",
       "      <td>0</td>\n",
       "      <td>8</td>\n",
       "      <td>36</td>\n",
       "      <td>2.472222</td>\n",
       "      <td>0.157303</td>\n",
       "      <td>9</td>\n",
       "    </tr>\n",
       "    <tr>\n",
       "      <th>3332</th>\n",
       "      <td>8963000</td>\n",
       "      <td>1817000</td>\n",
       "      <td>0.0</td>\n",
       "      <td>5</td>\n",
       "      <td>7</td>\n",
       "      <td>8</td>\n",
       "      <td>2.875000</td>\n",
       "      <td>0.434783</td>\n",
       "      <td>28</td>\n",
       "    </tr>\n",
       "    <tr>\n",
       "      <th>1002</th>\n",
       "      <td>789500</td>\n",
       "      <td>375000</td>\n",
       "      <td>0.0</td>\n",
       "      <td>17</td>\n",
       "      <td>10</td>\n",
       "      <td>1</td>\n",
       "      <td>5.000000</td>\n",
       "      <td>1.000000</td>\n",
       "      <td>0</td>\n",
       "    </tr>\n",
       "    <tr>\n",
       "      <th>...</th>\n",
       "      <td>...</td>\n",
       "      <td>...</td>\n",
       "      <td>...</td>\n",
       "      <td>...</td>\n",
       "      <td>...</td>\n",
       "      <td>...</td>\n",
       "      <td>...</td>\n",
       "      <td>...</td>\n",
       "      <td>...</td>\n",
       "    </tr>\n",
       "    <tr>\n",
       "      <th>835</th>\n",
       "      <td>109913260</td>\n",
       "      <td>16566000</td>\n",
       "      <td>0.0</td>\n",
       "      <td>41</td>\n",
       "      <td>9</td>\n",
       "      <td>30</td>\n",
       "      <td>2.500000</td>\n",
       "      <td>0.493333</td>\n",
       "      <td>12</td>\n",
       "    </tr>\n",
       "    <tr>\n",
       "      <th>3264</th>\n",
       "      <td>61579900</td>\n",
       "      <td>10800000</td>\n",
       "      <td>0.0</td>\n",
       "      <td>0</td>\n",
       "      <td>19</td>\n",
       "      <td>15</td>\n",
       "      <td>1.866667</td>\n",
       "      <td>0.071429</td>\n",
       "      <td>21</td>\n",
       "    </tr>\n",
       "    <tr>\n",
       "      <th>1653</th>\n",
       "      <td>3200500</td>\n",
       "      <td>1728000</td>\n",
       "      <td>0.0</td>\n",
       "      <td>0</td>\n",
       "      <td>8</td>\n",
       "      <td>4</td>\n",
       "      <td>2.000000</td>\n",
       "      <td>0.500000</td>\n",
       "      <td>85</td>\n",
       "    </tr>\n",
       "    <tr>\n",
       "      <th>2607</th>\n",
       "      <td>9200000</td>\n",
       "      <td>6800000</td>\n",
       "      <td>4290000.0</td>\n",
       "      <td>11</td>\n",
       "      <td>19</td>\n",
       "      <td>3</td>\n",
       "      <td>1.333333</td>\n",
       "      <td>0.000000</td>\n",
       "      <td>19</td>\n",
       "    </tr>\n",
       "    <tr>\n",
       "      <th>2732</th>\n",
       "      <td>42411480</td>\n",
       "      <td>23989000</td>\n",
       "      <td>0.0</td>\n",
       "      <td>0</td>\n",
       "      <td>8</td>\n",
       "      <td>4</td>\n",
       "      <td>3.750000</td>\n",
       "      <td>0.000000</td>\n",
       "      <td>70</td>\n",
       "    </tr>\n",
       "  </tbody>\n",
       "</table>\n",
       "<p>2625 rows × 9 columns</p>\n",
       "</div>"
      ],
      "text/plain": [
       "              총구매액     최대구매액        환불금액  주구매상품  주구매지점  내점일수   내점당구매건수  \\\n",
       "cust_id                                                                  \n",
       "1410       1560000   1495000         0.0     12     15     1  2.000000   \n",
       "1310       4832810    980000   2411200.0      0      1    13  5.384615   \n",
       "2140      58564760  21408000  69635400.0      0      8    36  2.472222   \n",
       "3332       8963000   1817000         0.0      5      7     8  2.875000   \n",
       "1002        789500    375000         0.0     17     10     1  5.000000   \n",
       "...            ...       ...         ...    ...    ...   ...       ...   \n",
       "835      109913260  16566000         0.0     41      9    30  2.500000   \n",
       "3264      61579900  10800000         0.0      0     19    15  1.866667   \n",
       "1653       3200500   1728000         0.0      0      8     4  2.000000   \n",
       "2607       9200000   6800000   4290000.0     11     19     3  1.333333   \n",
       "2732      42411480  23989000         0.0      0      8     4  3.750000   \n",
       "\n",
       "           주말방문비율  구매주기  \n",
       "cust_id                  \n",
       "1410     0.000000     0  \n",
       "1310     0.157143    24  \n",
       "2140     0.157303     9  \n",
       "3332     0.434783    28  \n",
       "1002     1.000000     0  \n",
       "...           ...   ...  \n",
       "835      0.493333    12  \n",
       "3264     0.071429    21  \n",
       "1653     0.500000    85  \n",
       "2607     0.000000    19  \n",
       "2732     0.000000    70  \n",
       "\n",
       "[2625 rows x 9 columns]"
      ]
     },
     "execution_count": 26,
     "metadata": {},
     "output_type": "execute_result"
    }
   ],
   "source": [
    "x_train"
   ]
  },
  {
   "cell_type": "code",
   "execution_count": 27,
   "id": "b0c9ebd6",
   "metadata": {
    "execution": {
     "iopub.execute_input": "2021-12-02T12:31:45.880376Z",
     "iopub.status.busy": "2021-12-02T12:31:45.879390Z",
     "iopub.status.idle": "2021-12-02T12:31:45.898136Z",
     "shell.execute_reply": "2021-12-02T12:31:45.897453Z",
     "shell.execute_reply.started": "2021-12-02T12:17:20.151322Z"
    },
    "papermill": {
     "duration": 0.075422,
     "end_time": "2021-12-02T12:31:45.898284",
     "exception": false,
     "start_time": "2021-12-02T12:31:45.822862",
     "status": "completed"
    },
    "tags": []
   },
   "outputs": [
    {
     "data": {
      "text/html": [
       "<div>\n",
       "<style scoped>\n",
       "    .dataframe tbody tr th:only-of-type {\n",
       "        vertical-align: middle;\n",
       "    }\n",
       "\n",
       "    .dataframe tbody tr th {\n",
       "        vertical-align: top;\n",
       "    }\n",
       "\n",
       "    .dataframe thead th {\n",
       "        text-align: right;\n",
       "    }\n",
       "</style>\n",
       "<table border=\"1\" class=\"dataframe\">\n",
       "  <thead>\n",
       "    <tr style=\"text-align: right;\">\n",
       "      <th></th>\n",
       "      <th>총구매액</th>\n",
       "      <th>최대구매액</th>\n",
       "      <th>환불금액</th>\n",
       "      <th>주구매상품</th>\n",
       "      <th>주구매지점</th>\n",
       "      <th>내점일수</th>\n",
       "      <th>내점당구매건수</th>\n",
       "      <th>주말방문비율</th>\n",
       "      <th>구매주기</th>\n",
       "    </tr>\n",
       "    <tr>\n",
       "      <th>cust_id</th>\n",
       "      <th></th>\n",
       "      <th></th>\n",
       "      <th></th>\n",
       "      <th></th>\n",
       "      <th></th>\n",
       "      <th></th>\n",
       "      <th></th>\n",
       "      <th></th>\n",
       "      <th></th>\n",
       "    </tr>\n",
       "  </thead>\n",
       "  <tbody>\n",
       "    <tr>\n",
       "      <th>1269</th>\n",
       "      <td>3303000</td>\n",
       "      <td>2772000</td>\n",
       "      <td>0.0</td>\n",
       "      <td>21</td>\n",
       "      <td>15</td>\n",
       "      <td>1</td>\n",
       "      <td>5.000000</td>\n",
       "      <td>0.000000</td>\n",
       "      <td>0</td>\n",
       "    </tr>\n",
       "    <tr>\n",
       "      <th>118</th>\n",
       "      <td>228654470</td>\n",
       "      <td>30000000</td>\n",
       "      <td>45308500.0</td>\n",
       "      <td>5</td>\n",
       "      <td>3</td>\n",
       "      <td>69</td>\n",
       "      <td>2.681159</td>\n",
       "      <td>0.248649</td>\n",
       "      <td>5</td>\n",
       "    </tr>\n",
       "    <tr>\n",
       "      <th>2809</th>\n",
       "      <td>2161400</td>\n",
       "      <td>1982400</td>\n",
       "      <td>0.0</td>\n",
       "      <td>0</td>\n",
       "      <td>18</td>\n",
       "      <td>2</td>\n",
       "      <td>3.500000</td>\n",
       "      <td>0.000000</td>\n",
       "      <td>0</td>\n",
       "    </tr>\n",
       "    <tr>\n",
       "      <th>2620</th>\n",
       "      <td>140784680</td>\n",
       "      <td>32366400</td>\n",
       "      <td>667000.0</td>\n",
       "      <td>3</td>\n",
       "      <td>9</td>\n",
       "      <td>20</td>\n",
       "      <td>2.100000</td>\n",
       "      <td>0.595238</td>\n",
       "      <td>16</td>\n",
       "    </tr>\n",
       "    <tr>\n",
       "      <th>1535</th>\n",
       "      <td>27157530</td>\n",
       "      <td>14160000</td>\n",
       "      <td>0.0</td>\n",
       "      <td>5</td>\n",
       "      <td>0</td>\n",
       "      <td>7</td>\n",
       "      <td>3.000000</td>\n",
       "      <td>0.523810</td>\n",
       "      <td>34</td>\n",
       "    </tr>\n",
       "    <tr>\n",
       "      <th>...</th>\n",
       "      <td>...</td>\n",
       "      <td>...</td>\n",
       "      <td>...</td>\n",
       "      <td>...</td>\n",
       "      <td>...</td>\n",
       "      <td>...</td>\n",
       "      <td>...</td>\n",
       "      <td>...</td>\n",
       "      <td>...</td>\n",
       "    </tr>\n",
       "    <tr>\n",
       "      <th>1427</th>\n",
       "      <td>158728320</td>\n",
       "      <td>39960000</td>\n",
       "      <td>0.0</td>\n",
       "      <td>2</td>\n",
       "      <td>8</td>\n",
       "      <td>9</td>\n",
       "      <td>1.444444</td>\n",
       "      <td>0.153846</td>\n",
       "      <td>37</td>\n",
       "    </tr>\n",
       "    <tr>\n",
       "      <th>674</th>\n",
       "      <td>933509250</td>\n",
       "      <td>121072000</td>\n",
       "      <td>161372000.0</td>\n",
       "      <td>24</td>\n",
       "      <td>18</td>\n",
       "      <td>53</td>\n",
       "      <td>2.094340</td>\n",
       "      <td>0.738739</td>\n",
       "      <td>6</td>\n",
       "    </tr>\n",
       "    <tr>\n",
       "      <th>454</th>\n",
       "      <td>86248600</td>\n",
       "      <td>9680000</td>\n",
       "      <td>3886000.0</td>\n",
       "      <td>24</td>\n",
       "      <td>8</td>\n",
       "      <td>30</td>\n",
       "      <td>2.266667</td>\n",
       "      <td>0.147059</td>\n",
       "      <td>11</td>\n",
       "    </tr>\n",
       "    <tr>\n",
       "      <th>1052</th>\n",
       "      <td>108406350</td>\n",
       "      <td>9255000</td>\n",
       "      <td>31777200.0</td>\n",
       "      <td>24</td>\n",
       "      <td>9</td>\n",
       "      <td>39</td>\n",
       "      <td>3.025641</td>\n",
       "      <td>0.254237</td>\n",
       "      <td>8</td>\n",
       "    </tr>\n",
       "    <tr>\n",
       "      <th>722</th>\n",
       "      <td>288517600</td>\n",
       "      <td>32850000</td>\n",
       "      <td>15150000.0</td>\n",
       "      <td>5</td>\n",
       "      <td>19</td>\n",
       "      <td>84</td>\n",
       "      <td>4.428571</td>\n",
       "      <td>0.309140</td>\n",
       "      <td>4</td>\n",
       "    </tr>\n",
       "  </tbody>\n",
       "</table>\n",
       "<p>875 rows × 9 columns</p>\n",
       "</div>"
      ],
      "text/plain": [
       "              총구매액      최대구매액         환불금액  주구매상품  주구매지점  내점일수   내점당구매건수  \\\n",
       "cust_id                                                                    \n",
       "1269       3303000    2772000          0.0     21     15     1  5.000000   \n",
       "118      228654470   30000000   45308500.0      5      3    69  2.681159   \n",
       "2809       2161400    1982400          0.0      0     18     2  3.500000   \n",
       "2620     140784680   32366400     667000.0      3      9    20  2.100000   \n",
       "1535      27157530   14160000          0.0      5      0     7  3.000000   \n",
       "...            ...        ...          ...    ...    ...   ...       ...   \n",
       "1427     158728320   39960000          0.0      2      8     9  1.444444   \n",
       "674      933509250  121072000  161372000.0     24     18    53  2.094340   \n",
       "454       86248600    9680000    3886000.0     24      8    30  2.266667   \n",
       "1052     108406350    9255000   31777200.0     24      9    39  3.025641   \n",
       "722      288517600   32850000   15150000.0      5     19    84  4.428571   \n",
       "\n",
       "           주말방문비율  구매주기  \n",
       "cust_id                  \n",
       "1269     0.000000     0  \n",
       "118      0.248649     5  \n",
       "2809     0.000000     0  \n",
       "2620     0.595238    16  \n",
       "1535     0.523810    34  \n",
       "...           ...   ...  \n",
       "1427     0.153846    37  \n",
       "674      0.738739     6  \n",
       "454      0.147059    11  \n",
       "1052     0.254237     8  \n",
       "722      0.309140     4  \n",
       "\n",
       "[875 rows x 9 columns]"
      ]
     },
     "execution_count": 27,
     "metadata": {},
     "output_type": "execute_result"
    }
   ],
   "source": [
    "x_valid"
   ]
  },
  {
   "cell_type": "markdown",
   "id": "16b795fa",
   "metadata": {
    "papermill": {
     "duration": 0.054159,
     "end_time": "2021-12-02T12:31:46.009669",
     "exception": false,
     "start_time": "2021-12-02T12:31:45.955510",
     "status": "completed"
    },
    "tags": []
   },
   "source": [
    "### 모델링"
   ]
  },
  {
   "cell_type": "code",
   "execution_count": 28,
   "id": "356f1330",
   "metadata": {
    "execution": {
     "iopub.execute_input": "2021-12-02T12:31:46.126929Z",
     "iopub.status.busy": "2021-12-02T12:31:46.126230Z",
     "iopub.status.idle": "2021-12-02T12:31:46.447501Z",
     "shell.execute_reply": "2021-12-02T12:31:46.446924Z",
     "shell.execute_reply.started": "2021-12-02T12:17:20.170763Z"
    },
    "papermill": {
     "duration": 0.379016,
     "end_time": "2021-12-02T12:31:46.447662",
     "exception": false,
     "start_time": "2021-12-02T12:31:46.068646",
     "status": "completed"
    },
    "tags": []
   },
   "outputs": [
    {
     "data": {
      "text/plain": [
       "'\\nExamples\\n |  --------\\n |  >>> from sklearn.ensemble import RandomForestClassifier\\n |  >>> from sklearn.datasets import make_classification\\n |  >>> X, y = make_classification(n_samples=1000, n_features=4,\\n |  ...                            n_informative=2, n_redundant=0,\\n |  ...                            random_state=0, shuffle=False)\\n |  >>> clf = RandomForestClassifier(max_depth=2, random_state=0)\\n |  >>> clf.fit(X, y)\\n |  RandomForestClassifier(...)\\n |  >>> print(clf.predict([[0, 0, 0, 0]]))\\n |  [1]\\n '"
      ]
     },
     "execution_count": 28,
     "metadata": {},
     "output_type": "execute_result"
    }
   ],
   "source": [
    "from sklearn.ensemble import RandomForestClassifier\n",
    "'''\n",
    "Examples\n",
    " |  --------\n",
    " |  >>> from sklearn.ensemble import RandomForestClassifier\n",
    " |  >>> from sklearn.datasets import make_classification\n",
    " |  >>> X, y = make_classification(n_samples=1000, n_features=4,\n",
    " |  ...                            n_informative=2, n_redundant=0,\n",
    " |  ...                            random_state=0, shuffle=False)\n",
    " |  >>> clf = RandomForestClassifier(max_depth=2, random_state=0)\n",
    " |  >>> clf.fit(X, y)\n",
    " |  RandomForestClassifier(...)\n",
    " |  >>> print(clf.predict([[0, 0, 0, 0]]))\n",
    " |  [1]\n",
    " '''"
   ]
  },
  {
   "cell_type": "code",
   "execution_count": 29,
   "id": "8b6999d6",
   "metadata": {
    "execution": {
     "iopub.execute_input": "2021-12-02T12:31:46.558416Z",
     "iopub.status.busy": "2021-12-02T12:31:46.557721Z",
     "iopub.status.idle": "2021-12-02T12:31:46.576427Z",
     "shell.execute_reply": "2021-12-02T12:31:46.576987Z",
     "shell.execute_reply.started": "2021-12-02T12:17:20.178330Z"
    },
    "papermill": {
     "duration": 0.07559,
     "end_time": "2021-12-02T12:31:46.577178",
     "exception": false,
     "start_time": "2021-12-02T12:31:46.501588",
     "status": "completed"
    },
    "tags": []
   },
   "outputs": [
    {
     "data": {
      "text/html": [
       "<div>\n",
       "<style scoped>\n",
       "    .dataframe tbody tr th:only-of-type {\n",
       "        vertical-align: middle;\n",
       "    }\n",
       "\n",
       "    .dataframe tbody tr th {\n",
       "        vertical-align: top;\n",
       "    }\n",
       "\n",
       "    .dataframe thead th {\n",
       "        text-align: right;\n",
       "    }\n",
       "</style>\n",
       "<table border=\"1\" class=\"dataframe\">\n",
       "  <thead>\n",
       "    <tr style=\"text-align: right;\">\n",
       "      <th></th>\n",
       "      <th>총구매액</th>\n",
       "      <th>최대구매액</th>\n",
       "      <th>환불금액</th>\n",
       "      <th>주구매상품</th>\n",
       "      <th>주구매지점</th>\n",
       "      <th>내점일수</th>\n",
       "      <th>내점당구매건수</th>\n",
       "      <th>주말방문비율</th>\n",
       "      <th>구매주기</th>\n",
       "    </tr>\n",
       "    <tr>\n",
       "      <th>cust_id</th>\n",
       "      <th></th>\n",
       "      <th></th>\n",
       "      <th></th>\n",
       "      <th></th>\n",
       "      <th></th>\n",
       "      <th></th>\n",
       "      <th></th>\n",
       "      <th></th>\n",
       "      <th></th>\n",
       "    </tr>\n",
       "  </thead>\n",
       "  <tbody>\n",
       "    <tr>\n",
       "      <th>1410</th>\n",
       "      <td>1560000</td>\n",
       "      <td>1495000</td>\n",
       "      <td>0.0</td>\n",
       "      <td>12</td>\n",
       "      <td>15</td>\n",
       "      <td>1</td>\n",
       "      <td>2.000000</td>\n",
       "      <td>0.000000</td>\n",
       "      <td>0</td>\n",
       "    </tr>\n",
       "    <tr>\n",
       "      <th>1310</th>\n",
       "      <td>4832810</td>\n",
       "      <td>980000</td>\n",
       "      <td>2411200.0</td>\n",
       "      <td>0</td>\n",
       "      <td>1</td>\n",
       "      <td>13</td>\n",
       "      <td>5.384615</td>\n",
       "      <td>0.157143</td>\n",
       "      <td>24</td>\n",
       "    </tr>\n",
       "    <tr>\n",
       "      <th>2140</th>\n",
       "      <td>58564760</td>\n",
       "      <td>21408000</td>\n",
       "      <td>69635400.0</td>\n",
       "      <td>0</td>\n",
       "      <td>8</td>\n",
       "      <td>36</td>\n",
       "      <td>2.472222</td>\n",
       "      <td>0.157303</td>\n",
       "      <td>9</td>\n",
       "    </tr>\n",
       "    <tr>\n",
       "      <th>3332</th>\n",
       "      <td>8963000</td>\n",
       "      <td>1817000</td>\n",
       "      <td>0.0</td>\n",
       "      <td>5</td>\n",
       "      <td>7</td>\n",
       "      <td>8</td>\n",
       "      <td>2.875000</td>\n",
       "      <td>0.434783</td>\n",
       "      <td>28</td>\n",
       "    </tr>\n",
       "    <tr>\n",
       "      <th>1002</th>\n",
       "      <td>789500</td>\n",
       "      <td>375000</td>\n",
       "      <td>0.0</td>\n",
       "      <td>17</td>\n",
       "      <td>10</td>\n",
       "      <td>1</td>\n",
       "      <td>5.000000</td>\n",
       "      <td>1.000000</td>\n",
       "      <td>0</td>\n",
       "    </tr>\n",
       "    <tr>\n",
       "      <th>...</th>\n",
       "      <td>...</td>\n",
       "      <td>...</td>\n",
       "      <td>...</td>\n",
       "      <td>...</td>\n",
       "      <td>...</td>\n",
       "      <td>...</td>\n",
       "      <td>...</td>\n",
       "      <td>...</td>\n",
       "      <td>...</td>\n",
       "    </tr>\n",
       "    <tr>\n",
       "      <th>835</th>\n",
       "      <td>109913260</td>\n",
       "      <td>16566000</td>\n",
       "      <td>0.0</td>\n",
       "      <td>41</td>\n",
       "      <td>9</td>\n",
       "      <td>30</td>\n",
       "      <td>2.500000</td>\n",
       "      <td>0.493333</td>\n",
       "      <td>12</td>\n",
       "    </tr>\n",
       "    <tr>\n",
       "      <th>3264</th>\n",
       "      <td>61579900</td>\n",
       "      <td>10800000</td>\n",
       "      <td>0.0</td>\n",
       "      <td>0</td>\n",
       "      <td>19</td>\n",
       "      <td>15</td>\n",
       "      <td>1.866667</td>\n",
       "      <td>0.071429</td>\n",
       "      <td>21</td>\n",
       "    </tr>\n",
       "    <tr>\n",
       "      <th>1653</th>\n",
       "      <td>3200500</td>\n",
       "      <td>1728000</td>\n",
       "      <td>0.0</td>\n",
       "      <td>0</td>\n",
       "      <td>8</td>\n",
       "      <td>4</td>\n",
       "      <td>2.000000</td>\n",
       "      <td>0.500000</td>\n",
       "      <td>85</td>\n",
       "    </tr>\n",
       "    <tr>\n",
       "      <th>2607</th>\n",
       "      <td>9200000</td>\n",
       "      <td>6800000</td>\n",
       "      <td>4290000.0</td>\n",
       "      <td>11</td>\n",
       "      <td>19</td>\n",
       "      <td>3</td>\n",
       "      <td>1.333333</td>\n",
       "      <td>0.000000</td>\n",
       "      <td>19</td>\n",
       "    </tr>\n",
       "    <tr>\n",
       "      <th>2732</th>\n",
       "      <td>42411480</td>\n",
       "      <td>23989000</td>\n",
       "      <td>0.0</td>\n",
       "      <td>0</td>\n",
       "      <td>8</td>\n",
       "      <td>4</td>\n",
       "      <td>3.750000</td>\n",
       "      <td>0.000000</td>\n",
       "      <td>70</td>\n",
       "    </tr>\n",
       "  </tbody>\n",
       "</table>\n",
       "<p>2625 rows × 9 columns</p>\n",
       "</div>"
      ],
      "text/plain": [
       "              총구매액     최대구매액        환불금액  주구매상품  주구매지점  내점일수   내점당구매건수  \\\n",
       "cust_id                                                                  \n",
       "1410       1560000   1495000         0.0     12     15     1  2.000000   \n",
       "1310       4832810    980000   2411200.0      0      1    13  5.384615   \n",
       "2140      58564760  21408000  69635400.0      0      8    36  2.472222   \n",
       "3332       8963000   1817000         0.0      5      7     8  2.875000   \n",
       "1002        789500    375000         0.0     17     10     1  5.000000   \n",
       "...            ...       ...         ...    ...    ...   ...       ...   \n",
       "835      109913260  16566000         0.0     41      9    30  2.500000   \n",
       "3264      61579900  10800000         0.0      0     19    15  1.866667   \n",
       "1653       3200500   1728000         0.0      0      8     4  2.000000   \n",
       "2607       9200000   6800000   4290000.0     11     19     3  1.333333   \n",
       "2732      42411480  23989000         0.0      0      8     4  3.750000   \n",
       "\n",
       "           주말방문비율  구매주기  \n",
       "cust_id                  \n",
       "1410     0.000000     0  \n",
       "1310     0.157143    24  \n",
       "2140     0.157303     9  \n",
       "3332     0.434783    28  \n",
       "1002     1.000000     0  \n",
       "...           ...   ...  \n",
       "835      0.493333    12  \n",
       "3264     0.071429    21  \n",
       "1653     0.500000    85  \n",
       "2607     0.000000    19  \n",
       "2732     0.000000    70  \n",
       "\n",
       "[2625 rows x 9 columns]"
      ]
     },
     "execution_count": 29,
     "metadata": {},
     "output_type": "execute_result"
    }
   ],
   "source": [
    "x_train"
   ]
  },
  {
   "cell_type": "code",
   "execution_count": 30,
   "id": "114c47ea",
   "metadata": {
    "execution": {
     "iopub.execute_input": "2021-12-02T12:31:46.692566Z",
     "iopub.status.busy": "2021-12-02T12:31:46.691593Z",
     "iopub.status.idle": "2021-12-02T12:31:46.698199Z",
     "shell.execute_reply": "2021-12-02T12:31:46.698658Z",
     "shell.execute_reply.started": "2021-12-02T12:17:20.202807Z"
    },
    "papermill": {
     "duration": 0.066313,
     "end_time": "2021-12-02T12:31:46.698853",
     "exception": false,
     "start_time": "2021-12-02T12:31:46.632540",
     "status": "completed"
    },
    "tags": []
   },
   "outputs": [
    {
     "data": {
      "text/plain": [
       "cust_id\n",
       "1410    0\n",
       "1310    0\n",
       "2140    0\n",
       "3332    1\n",
       "1002    0\n",
       "       ..\n",
       "835     0\n",
       "3264    0\n",
       "1653    1\n",
       "2607    0\n",
       "2732    1\n",
       "Name: gender, Length: 2625, dtype: int64"
      ]
     },
     "execution_count": 30,
     "metadata": {},
     "output_type": "execute_result"
    }
   ],
   "source": [
    "y_train"
   ]
  },
  {
   "cell_type": "code",
   "execution_count": 31,
   "id": "6d82f8bf",
   "metadata": {
    "execution": {
     "iopub.execute_input": "2021-12-02T12:31:46.815667Z",
     "iopub.status.busy": "2021-12-02T12:31:46.814612Z",
     "iopub.status.idle": "2021-12-02T12:31:46.818921Z",
     "shell.execute_reply": "2021-12-02T12:31:46.819460Z",
     "shell.execute_reply.started": "2021-12-02T12:17:20.217321Z"
    },
    "papermill": {
     "duration": 0.064896,
     "end_time": "2021-12-02T12:31:46.819646",
     "exception": false,
     "start_time": "2021-12-02T12:31:46.754750",
     "status": "completed"
    },
    "tags": []
   },
   "outputs": [],
   "source": [
    "case = RandomForestClassifier(max_depth=5, random_state=0)"
   ]
  },
  {
   "cell_type": "code",
   "execution_count": 32,
   "id": "9c252a92",
   "metadata": {
    "execution": {
     "iopub.execute_input": "2021-12-02T12:31:46.935455Z",
     "iopub.status.busy": "2021-12-02T12:31:46.934527Z",
     "iopub.status.idle": "2021-12-02T12:31:46.937420Z",
     "shell.execute_reply": "2021-12-02T12:31:46.936840Z",
     "shell.execute_reply.started": "2021-12-02T12:17:20.226595Z"
    },
    "papermill": {
     "duration": 0.062461,
     "end_time": "2021-12-02T12:31:46.937584",
     "exception": false,
     "start_time": "2021-12-02T12:31:46.875123",
     "status": "completed"
    },
    "tags": []
   },
   "outputs": [],
   "source": [
    "case = RandomForestClassifier(random_state = 0)"
   ]
  },
  {
   "cell_type": "code",
   "execution_count": 33,
   "id": "ebc71da2",
   "metadata": {
    "execution": {
     "iopub.execute_input": "2021-12-02T12:31:47.055099Z",
     "iopub.status.busy": "2021-12-02T12:31:47.054388Z",
     "iopub.status.idle": "2021-12-02T12:31:47.728688Z",
     "shell.execute_reply": "2021-12-02T12:31:47.728027Z",
     "shell.execute_reply.started": "2021-12-02T12:17:20.237839Z"
    },
    "papermill": {
     "duration": 0.735791,
     "end_time": "2021-12-02T12:31:47.728860",
     "exception": false,
     "start_time": "2021-12-02T12:31:46.993069",
     "status": "completed"
    },
    "tags": []
   },
   "outputs": [
    {
     "data": {
      "text/plain": [
       "RandomForestClassifier(random_state=0)"
      ]
     },
     "execution_count": 33,
     "metadata": {},
     "output_type": "execute_result"
    }
   ],
   "source": [
    "case.fit(x_train, y_train)"
   ]
  },
  {
   "cell_type": "markdown",
   "id": "dcce37fa",
   "metadata": {
    "papermill": {
     "duration": 0.057814,
     "end_time": "2021-12-02T12:31:47.841939",
     "exception": false,
     "start_time": "2021-12-02T12:31:47.784125",
     "status": "completed"
    },
    "tags": []
   },
   "source": [
    "### 모델 검증"
   ]
  },
  {
   "cell_type": "code",
   "execution_count": 34,
   "id": "9d9b79b4",
   "metadata": {
    "execution": {
     "iopub.execute_input": "2021-12-02T12:31:47.960474Z",
     "iopub.status.busy": "2021-12-02T12:31:47.959715Z",
     "iopub.status.idle": "2021-12-02T12:31:47.990642Z",
     "shell.execute_reply": "2021-12-02T12:31:47.990031Z",
     "shell.execute_reply.started": "2021-12-02T12:17:20.871141Z"
    },
    "papermill": {
     "duration": 0.093261,
     "end_time": "2021-12-02T12:31:47.990816",
     "exception": false,
     "start_time": "2021-12-02T12:31:47.897555",
     "status": "completed"
    },
    "tags": []
   },
   "outputs": [],
   "source": [
    "valid_pred = case.predict(x_valid)"
   ]
  },
  {
   "cell_type": "code",
   "execution_count": 35,
   "id": "ae623a2f",
   "metadata": {
    "execution": {
     "iopub.execute_input": "2021-12-02T12:31:48.125030Z",
     "iopub.status.busy": "2021-12-02T12:31:48.124306Z",
     "iopub.status.idle": "2021-12-02T12:31:48.128749Z",
     "shell.execute_reply": "2021-12-02T12:31:48.128189Z",
     "shell.execute_reply.started": "2021-12-02T12:17:20.905273Z"
    },
    "papermill": {
     "duration": 0.078787,
     "end_time": "2021-12-02T12:31:48.128928",
     "exception": false,
     "start_time": "2021-12-02T12:31:48.050141",
     "status": "completed"
    },
    "tags": []
   },
   "outputs": [
    {
     "data": {
      "text/html": [
       "<div>\n",
       "<style scoped>\n",
       "    .dataframe tbody tr th:only-of-type {\n",
       "        vertical-align: middle;\n",
       "    }\n",
       "\n",
       "    .dataframe tbody tr th {\n",
       "        vertical-align: top;\n",
       "    }\n",
       "\n",
       "    .dataframe thead th {\n",
       "        text-align: right;\n",
       "    }\n",
       "</style>\n",
       "<table border=\"1\" class=\"dataframe\">\n",
       "  <thead>\n",
       "    <tr style=\"text-align: right;\">\n",
       "      <th></th>\n",
       "      <th>총구매액</th>\n",
       "      <th>최대구매액</th>\n",
       "      <th>환불금액</th>\n",
       "      <th>주구매상품</th>\n",
       "      <th>주구매지점</th>\n",
       "      <th>내점일수</th>\n",
       "      <th>내점당구매건수</th>\n",
       "      <th>주말방문비율</th>\n",
       "      <th>구매주기</th>\n",
       "    </tr>\n",
       "    <tr>\n",
       "      <th>cust_id</th>\n",
       "      <th></th>\n",
       "      <th></th>\n",
       "      <th></th>\n",
       "      <th></th>\n",
       "      <th></th>\n",
       "      <th></th>\n",
       "      <th></th>\n",
       "      <th></th>\n",
       "      <th></th>\n",
       "    </tr>\n",
       "  </thead>\n",
       "  <tbody>\n",
       "    <tr>\n",
       "      <th>1269</th>\n",
       "      <td>3303000</td>\n",
       "      <td>2772000</td>\n",
       "      <td>0.0</td>\n",
       "      <td>21</td>\n",
       "      <td>15</td>\n",
       "      <td>1</td>\n",
       "      <td>5.000000</td>\n",
       "      <td>0.000000</td>\n",
       "      <td>0</td>\n",
       "    </tr>\n",
       "    <tr>\n",
       "      <th>118</th>\n",
       "      <td>228654470</td>\n",
       "      <td>30000000</td>\n",
       "      <td>45308500.0</td>\n",
       "      <td>5</td>\n",
       "      <td>3</td>\n",
       "      <td>69</td>\n",
       "      <td>2.681159</td>\n",
       "      <td>0.248649</td>\n",
       "      <td>5</td>\n",
       "    </tr>\n",
       "    <tr>\n",
       "      <th>2809</th>\n",
       "      <td>2161400</td>\n",
       "      <td>1982400</td>\n",
       "      <td>0.0</td>\n",
       "      <td>0</td>\n",
       "      <td>18</td>\n",
       "      <td>2</td>\n",
       "      <td>3.500000</td>\n",
       "      <td>0.000000</td>\n",
       "      <td>0</td>\n",
       "    </tr>\n",
       "    <tr>\n",
       "      <th>2620</th>\n",
       "      <td>140784680</td>\n",
       "      <td>32366400</td>\n",
       "      <td>667000.0</td>\n",
       "      <td>3</td>\n",
       "      <td>9</td>\n",
       "      <td>20</td>\n",
       "      <td>2.100000</td>\n",
       "      <td>0.595238</td>\n",
       "      <td>16</td>\n",
       "    </tr>\n",
       "    <tr>\n",
       "      <th>1535</th>\n",
       "      <td>27157530</td>\n",
       "      <td>14160000</td>\n",
       "      <td>0.0</td>\n",
       "      <td>5</td>\n",
       "      <td>0</td>\n",
       "      <td>7</td>\n",
       "      <td>3.000000</td>\n",
       "      <td>0.523810</td>\n",
       "      <td>34</td>\n",
       "    </tr>\n",
       "    <tr>\n",
       "      <th>...</th>\n",
       "      <td>...</td>\n",
       "      <td>...</td>\n",
       "      <td>...</td>\n",
       "      <td>...</td>\n",
       "      <td>...</td>\n",
       "      <td>...</td>\n",
       "      <td>...</td>\n",
       "      <td>...</td>\n",
       "      <td>...</td>\n",
       "    </tr>\n",
       "    <tr>\n",
       "      <th>1427</th>\n",
       "      <td>158728320</td>\n",
       "      <td>39960000</td>\n",
       "      <td>0.0</td>\n",
       "      <td>2</td>\n",
       "      <td>8</td>\n",
       "      <td>9</td>\n",
       "      <td>1.444444</td>\n",
       "      <td>0.153846</td>\n",
       "      <td>37</td>\n",
       "    </tr>\n",
       "    <tr>\n",
       "      <th>674</th>\n",
       "      <td>933509250</td>\n",
       "      <td>121072000</td>\n",
       "      <td>161372000.0</td>\n",
       "      <td>24</td>\n",
       "      <td>18</td>\n",
       "      <td>53</td>\n",
       "      <td>2.094340</td>\n",
       "      <td>0.738739</td>\n",
       "      <td>6</td>\n",
       "    </tr>\n",
       "    <tr>\n",
       "      <th>454</th>\n",
       "      <td>86248600</td>\n",
       "      <td>9680000</td>\n",
       "      <td>3886000.0</td>\n",
       "      <td>24</td>\n",
       "      <td>8</td>\n",
       "      <td>30</td>\n",
       "      <td>2.266667</td>\n",
       "      <td>0.147059</td>\n",
       "      <td>11</td>\n",
       "    </tr>\n",
       "    <tr>\n",
       "      <th>1052</th>\n",
       "      <td>108406350</td>\n",
       "      <td>9255000</td>\n",
       "      <td>31777200.0</td>\n",
       "      <td>24</td>\n",
       "      <td>9</td>\n",
       "      <td>39</td>\n",
       "      <td>3.025641</td>\n",
       "      <td>0.254237</td>\n",
       "      <td>8</td>\n",
       "    </tr>\n",
       "    <tr>\n",
       "      <th>722</th>\n",
       "      <td>288517600</td>\n",
       "      <td>32850000</td>\n",
       "      <td>15150000.0</td>\n",
       "      <td>5</td>\n",
       "      <td>19</td>\n",
       "      <td>84</td>\n",
       "      <td>4.428571</td>\n",
       "      <td>0.309140</td>\n",
       "      <td>4</td>\n",
       "    </tr>\n",
       "  </tbody>\n",
       "</table>\n",
       "<p>875 rows × 9 columns</p>\n",
       "</div>"
      ],
      "text/plain": [
       "              총구매액      최대구매액         환불금액  주구매상품  주구매지점  내점일수   내점당구매건수  \\\n",
       "cust_id                                                                    \n",
       "1269       3303000    2772000          0.0     21     15     1  5.000000   \n",
       "118      228654470   30000000   45308500.0      5      3    69  2.681159   \n",
       "2809       2161400    1982400          0.0      0     18     2  3.500000   \n",
       "2620     140784680   32366400     667000.0      3      9    20  2.100000   \n",
       "1535      27157530   14160000          0.0      5      0     7  3.000000   \n",
       "...            ...        ...          ...    ...    ...   ...       ...   \n",
       "1427     158728320   39960000          0.0      2      8     9  1.444444   \n",
       "674      933509250  121072000  161372000.0     24     18    53  2.094340   \n",
       "454       86248600    9680000    3886000.0     24      8    30  2.266667   \n",
       "1052     108406350    9255000   31777200.0     24      9    39  3.025641   \n",
       "722      288517600   32850000   15150000.0      5     19    84  4.428571   \n",
       "\n",
       "           주말방문비율  구매주기  \n",
       "cust_id                  \n",
       "1269     0.000000     0  \n",
       "118      0.248649     5  \n",
       "2809     0.000000     0  \n",
       "2620     0.595238    16  \n",
       "1535     0.523810    34  \n",
       "...           ...   ...  \n",
       "1427     0.153846    37  \n",
       "674      0.738739     6  \n",
       "454      0.147059    11  \n",
       "1052     0.254237     8  \n",
       "722      0.309140     4  \n",
       "\n",
       "[875 rows x 9 columns]"
      ]
     },
     "execution_count": 35,
     "metadata": {},
     "output_type": "execute_result"
    }
   ],
   "source": [
    "x_valid"
   ]
  },
  {
   "cell_type": "code",
   "execution_count": 36,
   "id": "b107c443",
   "metadata": {
    "execution": {
     "iopub.execute_input": "2021-12-02T12:31:48.252316Z",
     "iopub.status.busy": "2021-12-02T12:31:48.251587Z",
     "iopub.status.idle": "2021-12-02T12:31:48.255752Z",
     "shell.execute_reply": "2021-12-02T12:31:48.255105Z",
     "shell.execute_reply.started": "2021-12-02T12:17:20.923994Z"
    },
    "papermill": {
     "duration": 0.068749,
     "end_time": "2021-12-02T12:31:48.255916",
     "exception": false,
     "start_time": "2021-12-02T12:31:48.187167",
     "status": "completed"
    },
    "tags": []
   },
   "outputs": [
    {
     "data": {
      "text/plain": [
       "array([0, 0, 1, 0, 0, 0, 0, 0, 0, 0, 0, 1, 1, 1, 0, 0, 0, 0, 0, 0, 0, 0,\n",
       "       0, 0, 0, 0, 0, 0, 0, 0, 1, 0, 0, 1, 0, 0, 0, 1, 0, 0, 0, 0, 0, 0,\n",
       "       0, 0, 1, 0, 1, 0, 0, 0, 1, 0, 0, 1, 0, 1, 0, 0, 0, 0, 0, 0, 0, 0,\n",
       "       0, 1, 1, 0, 0, 0, 0, 1, 0, 1, 0, 0, 1, 0, 0, 1, 0, 0, 0, 0, 0, 0,\n",
       "       1, 0, 0, 0, 0, 1, 1, 0, 1, 0, 0, 0, 0, 1, 1, 0, 0, 0, 0, 0, 0, 0,\n",
       "       1, 0, 0, 1, 0, 0, 0, 0, 0, 1, 0, 0, 0, 0, 1, 0, 1, 0, 0, 0, 0, 0,\n",
       "       0, 1, 0, 0, 0, 0, 0, 0, 0, 0, 0, 0, 0, 1, 0, 0, 0, 1, 1, 0, 0, 1,\n",
       "       0, 0, 0, 0, 0, 1, 0, 0, 0, 0, 0, 0, 0, 0, 0, 0, 0, 0, 0, 1, 1, 0,\n",
       "       0, 0, 0, 0, 1, 1, 1, 0, 0, 0, 1, 1, 1, 0, 0, 1, 1, 0, 0, 0, 1, 0,\n",
       "       0, 1, 0, 0, 0, 0, 0, 0, 1, 1, 0, 0, 0, 1, 0, 0, 0, 1, 1, 0, 0, 0,\n",
       "       0, 0, 0, 0, 1, 1, 0, 0, 0, 0, 0, 0, 0, 1, 0, 1, 0, 1, 1, 1, 0, 1,\n",
       "       0, 1, 1, 1, 0, 0, 0, 0, 0, 1, 1, 1, 0, 0, 1, 0, 1, 1, 0, 1, 0, 1,\n",
       "       1, 0, 0, 1, 0, 0, 0, 0, 0, 0, 0, 0, 0, 0, 1, 0, 0, 1, 1, 0, 0, 0,\n",
       "       0, 0, 0, 0, 0, 0, 1, 0, 0, 1, 0, 0, 0, 0, 0, 1, 1, 0, 0, 0, 0, 0,\n",
       "       1, 1, 0, 0, 0, 1, 0, 1, 0, 0, 0, 0, 0, 0, 1, 0, 0, 1, 0, 0, 0, 0,\n",
       "       0, 0, 0, 0, 0, 0, 0, 0, 1, 0, 0, 1, 0, 0, 0, 0, 0, 1, 0, 1, 0, 1,\n",
       "       0, 0, 0, 0, 1, 0, 1, 1, 1, 0, 0, 0, 0, 0, 0, 0, 0, 0, 1, 0, 0, 0,\n",
       "       0, 0, 0, 1, 0, 0, 1, 0, 0, 0, 0, 0, 1, 1, 0, 1, 0, 0, 0, 1, 0, 0,\n",
       "       0, 0, 0, 1, 0, 1, 0, 0, 0, 1, 1, 1, 0, 1, 0, 0, 0, 0, 0, 1, 0, 1,\n",
       "       0, 0, 0, 0, 0, 0, 0, 0, 0, 1, 0, 0, 0, 0, 0, 0, 0, 0, 0, 1, 1, 0,\n",
       "       0, 1, 1, 0, 0, 1, 0, 1, 0, 0, 1, 0, 0, 0, 0, 0, 0, 0, 1, 0, 0, 0,\n",
       "       0, 0, 0, 0, 1, 0, 0, 1, 1, 0, 0, 0, 0, 0, 0, 1, 1, 0, 0, 1, 1, 0,\n",
       "       0, 1, 1, 0, 0, 0, 0, 0, 1, 0, 0, 0, 0, 1, 0, 0, 0, 0, 0, 0, 1, 1,\n",
       "       0, 1, 0, 0, 0, 0, 1, 1, 0, 0, 0, 1, 1, 0, 0, 0, 0, 0, 0, 0, 0, 1,\n",
       "       0, 0, 0, 0, 0, 1, 0, 0, 0, 1, 1, 0, 1, 0, 0, 0, 0, 0, 0, 0, 0, 0,\n",
       "       0, 0, 0, 0, 0, 1, 0, 0, 0, 1, 0, 0, 0, 1, 0, 1, 0, 0, 0, 0, 0, 0,\n",
       "       0, 1, 1, 0, 1, 0, 0, 0, 0, 0, 1, 0, 0, 1, 0, 0, 1, 0, 0, 0, 0, 0,\n",
       "       0, 0, 0, 0, 0, 1, 0, 0, 1, 0, 1, 0, 1, 0, 0, 0, 0, 1, 0, 0, 0, 0,\n",
       "       0, 1, 0, 0, 0, 1, 0, 0, 0, 1, 0, 0, 0, 0, 0, 1, 0, 0, 0, 0, 0, 1,\n",
       "       0, 0, 0, 0, 0, 0, 1, 0, 0, 0, 1, 0, 1, 0, 0, 0, 0, 0, 0, 0, 0, 0,\n",
       "       0, 1, 0, 0, 0, 0, 0, 1, 0, 1, 0, 0, 0, 0, 0, 1, 0, 0, 0, 1, 0, 0,\n",
       "       0, 0, 0, 0, 1, 0, 0, 0, 1, 0, 0, 0, 0, 0, 0, 0, 0, 0, 0, 1, 1, 0,\n",
       "       0, 0, 0, 0, 0, 0, 0, 0, 1, 0, 0, 0, 0, 0, 1, 1, 0, 0, 0, 1, 0, 0,\n",
       "       1, 1, 0, 0, 0, 1, 0, 0, 1, 0, 0, 0, 0, 1, 1, 0, 1, 1, 0, 0, 0, 0,\n",
       "       0, 0, 0, 0, 0, 0, 0, 0, 0, 0, 0, 0, 0, 0, 1, 0, 0, 0, 1, 0, 0, 0,\n",
       "       0, 0, 0, 1, 0, 0, 0, 1, 0, 1, 0, 0, 0, 1, 0, 0, 0, 1, 0, 0, 0, 1,\n",
       "       1, 0, 1, 0, 0, 1, 1, 0, 1, 0, 0, 0, 0, 0, 0, 0, 0, 1, 0, 0, 0, 0,\n",
       "       0, 0, 1, 0, 0, 0, 0, 0, 1, 0, 0, 0, 0, 0, 1, 0, 1, 0, 0, 0, 0, 0,\n",
       "       0, 0, 1, 0, 0, 0, 0, 0, 0, 0, 0, 0, 0, 0, 0, 0, 0, 1, 0, 0, 0, 0,\n",
       "       0, 0, 0, 1, 0, 0, 0, 0, 0, 0, 0, 0, 1, 0, 0, 0, 0])"
      ]
     },
     "execution_count": 36,
     "metadata": {},
     "output_type": "execute_result"
    }
   ],
   "source": [
    "valid_pred"
   ]
  },
  {
   "cell_type": "code",
   "execution_count": 37,
   "id": "92647da7",
   "metadata": {
    "execution": {
     "iopub.execute_input": "2021-12-02T12:31:48.390014Z",
     "iopub.status.busy": "2021-12-02T12:31:48.377477Z",
     "iopub.status.idle": "2021-12-02T12:31:48.393723Z",
     "shell.execute_reply": "2021-12-02T12:31:48.392983Z",
     "shell.execute_reply.started": "2021-12-02T12:17:20.937798Z"
    },
    "papermill": {
     "duration": 0.081433,
     "end_time": "2021-12-02T12:31:48.393899",
     "exception": false,
     "start_time": "2021-12-02T12:31:48.312466",
     "status": "completed"
    },
    "tags": []
   },
   "outputs": [
    {
     "data": {
      "text/html": [
       "<div>\n",
       "<style scoped>\n",
       "    .dataframe tbody tr th:only-of-type {\n",
       "        vertical-align: middle;\n",
       "    }\n",
       "\n",
       "    .dataframe tbody tr th {\n",
       "        vertical-align: top;\n",
       "    }\n",
       "\n",
       "    .dataframe thead th {\n",
       "        text-align: right;\n",
       "    }\n",
       "</style>\n",
       "<table border=\"1\" class=\"dataframe\">\n",
       "  <thead>\n",
       "    <tr style=\"text-align: right;\">\n",
       "      <th></th>\n",
       "      <th>총구매액</th>\n",
       "      <th>최대구매액</th>\n",
       "      <th>환불금액</th>\n",
       "      <th>주구매상품</th>\n",
       "      <th>주구매지점</th>\n",
       "      <th>내점일수</th>\n",
       "      <th>내점당구매건수</th>\n",
       "      <th>주말방문비율</th>\n",
       "      <th>구매주기</th>\n",
       "    </tr>\n",
       "    <tr>\n",
       "      <th>cust_id</th>\n",
       "      <th></th>\n",
       "      <th></th>\n",
       "      <th></th>\n",
       "      <th></th>\n",
       "      <th></th>\n",
       "      <th></th>\n",
       "      <th></th>\n",
       "      <th></th>\n",
       "      <th></th>\n",
       "    </tr>\n",
       "  </thead>\n",
       "  <tbody>\n",
       "    <tr>\n",
       "      <th>1269</th>\n",
       "      <td>3303000</td>\n",
       "      <td>2772000</td>\n",
       "      <td>0.0</td>\n",
       "      <td>21</td>\n",
       "      <td>15</td>\n",
       "      <td>1</td>\n",
       "      <td>5.000000</td>\n",
       "      <td>0.000000</td>\n",
       "      <td>0</td>\n",
       "    </tr>\n",
       "    <tr>\n",
       "      <th>118</th>\n",
       "      <td>228654470</td>\n",
       "      <td>30000000</td>\n",
       "      <td>45308500.0</td>\n",
       "      <td>5</td>\n",
       "      <td>3</td>\n",
       "      <td>69</td>\n",
       "      <td>2.681159</td>\n",
       "      <td>0.248649</td>\n",
       "      <td>5</td>\n",
       "    </tr>\n",
       "    <tr>\n",
       "      <th>2809</th>\n",
       "      <td>2161400</td>\n",
       "      <td>1982400</td>\n",
       "      <td>0.0</td>\n",
       "      <td>0</td>\n",
       "      <td>18</td>\n",
       "      <td>2</td>\n",
       "      <td>3.500000</td>\n",
       "      <td>0.000000</td>\n",
       "      <td>0</td>\n",
       "    </tr>\n",
       "    <tr>\n",
       "      <th>2620</th>\n",
       "      <td>140784680</td>\n",
       "      <td>32366400</td>\n",
       "      <td>667000.0</td>\n",
       "      <td>3</td>\n",
       "      <td>9</td>\n",
       "      <td>20</td>\n",
       "      <td>2.100000</td>\n",
       "      <td>0.595238</td>\n",
       "      <td>16</td>\n",
       "    </tr>\n",
       "    <tr>\n",
       "      <th>1535</th>\n",
       "      <td>27157530</td>\n",
       "      <td>14160000</td>\n",
       "      <td>0.0</td>\n",
       "      <td>5</td>\n",
       "      <td>0</td>\n",
       "      <td>7</td>\n",
       "      <td>3.000000</td>\n",
       "      <td>0.523810</td>\n",
       "      <td>34</td>\n",
       "    </tr>\n",
       "    <tr>\n",
       "      <th>...</th>\n",
       "      <td>...</td>\n",
       "      <td>...</td>\n",
       "      <td>...</td>\n",
       "      <td>...</td>\n",
       "      <td>...</td>\n",
       "      <td>...</td>\n",
       "      <td>...</td>\n",
       "      <td>...</td>\n",
       "      <td>...</td>\n",
       "    </tr>\n",
       "    <tr>\n",
       "      <th>1427</th>\n",
       "      <td>158728320</td>\n",
       "      <td>39960000</td>\n",
       "      <td>0.0</td>\n",
       "      <td>2</td>\n",
       "      <td>8</td>\n",
       "      <td>9</td>\n",
       "      <td>1.444444</td>\n",
       "      <td>0.153846</td>\n",
       "      <td>37</td>\n",
       "    </tr>\n",
       "    <tr>\n",
       "      <th>674</th>\n",
       "      <td>933509250</td>\n",
       "      <td>121072000</td>\n",
       "      <td>161372000.0</td>\n",
       "      <td>24</td>\n",
       "      <td>18</td>\n",
       "      <td>53</td>\n",
       "      <td>2.094340</td>\n",
       "      <td>0.738739</td>\n",
       "      <td>6</td>\n",
       "    </tr>\n",
       "    <tr>\n",
       "      <th>454</th>\n",
       "      <td>86248600</td>\n",
       "      <td>9680000</td>\n",
       "      <td>3886000.0</td>\n",
       "      <td>24</td>\n",
       "      <td>8</td>\n",
       "      <td>30</td>\n",
       "      <td>2.266667</td>\n",
       "      <td>0.147059</td>\n",
       "      <td>11</td>\n",
       "    </tr>\n",
       "    <tr>\n",
       "      <th>1052</th>\n",
       "      <td>108406350</td>\n",
       "      <td>9255000</td>\n",
       "      <td>31777200.0</td>\n",
       "      <td>24</td>\n",
       "      <td>9</td>\n",
       "      <td>39</td>\n",
       "      <td>3.025641</td>\n",
       "      <td>0.254237</td>\n",
       "      <td>8</td>\n",
       "    </tr>\n",
       "    <tr>\n",
       "      <th>722</th>\n",
       "      <td>288517600</td>\n",
       "      <td>32850000</td>\n",
       "      <td>15150000.0</td>\n",
       "      <td>5</td>\n",
       "      <td>19</td>\n",
       "      <td>84</td>\n",
       "      <td>4.428571</td>\n",
       "      <td>0.309140</td>\n",
       "      <td>4</td>\n",
       "    </tr>\n",
       "  </tbody>\n",
       "</table>\n",
       "<p>875 rows × 9 columns</p>\n",
       "</div>"
      ],
      "text/plain": [
       "              총구매액      최대구매액         환불금액  주구매상품  주구매지점  내점일수   내점당구매건수  \\\n",
       "cust_id                                                                    \n",
       "1269       3303000    2772000          0.0     21     15     1  5.000000   \n",
       "118      228654470   30000000   45308500.0      5      3    69  2.681159   \n",
       "2809       2161400    1982400          0.0      0     18     2  3.500000   \n",
       "2620     140784680   32366400     667000.0      3      9    20  2.100000   \n",
       "1535      27157530   14160000          0.0      5      0     7  3.000000   \n",
       "...            ...        ...          ...    ...    ...   ...       ...   \n",
       "1427     158728320   39960000          0.0      2      8     9  1.444444   \n",
       "674      933509250  121072000  161372000.0     24     18    53  2.094340   \n",
       "454       86248600    9680000    3886000.0     24      8    30  2.266667   \n",
       "1052     108406350    9255000   31777200.0     24      9    39  3.025641   \n",
       "722      288517600   32850000   15150000.0      5     19    84  4.428571   \n",
       "\n",
       "           주말방문비율  구매주기  \n",
       "cust_id                  \n",
       "1269     0.000000     0  \n",
       "118      0.248649     5  \n",
       "2809     0.000000     0  \n",
       "2620     0.595238    16  \n",
       "1535     0.523810    34  \n",
       "...           ...   ...  \n",
       "1427     0.153846    37  \n",
       "674      0.738739     6  \n",
       "454      0.147059    11  \n",
       "1052     0.254237     8  \n",
       "722      0.309140     4  \n",
       "\n",
       "[875 rows x 9 columns]"
      ]
     },
     "execution_count": 37,
     "metadata": {},
     "output_type": "execute_result"
    }
   ],
   "source": [
    "x_valid"
   ]
  },
  {
   "cell_type": "markdown",
   "id": "424fbaf0",
   "metadata": {
    "papermill": {
     "duration": 0.064916,
     "end_time": "2021-12-02T12:31:48.516904",
     "exception": false,
     "start_time": "2021-12-02T12:31:48.451988",
     "status": "completed"
    },
    "tags": []
   },
   "source": [
    "### 평가지표 확인"
   ]
  },
  {
   "cell_type": "code",
   "execution_count": 38,
   "id": "57ff8dce",
   "metadata": {
    "execution": {
     "iopub.execute_input": "2021-12-02T12:31:48.648815Z",
     "iopub.status.busy": "2021-12-02T12:31:48.647983Z",
     "iopub.status.idle": "2021-12-02T12:31:48.656666Z",
     "shell.execute_reply": "2021-12-02T12:31:48.655628Z",
     "shell.execute_reply.started": "2021-12-02T12:17:20.961616Z"
    },
    "papermill": {
     "duration": 0.073366,
     "end_time": "2021-12-02T12:31:48.656909",
     "exception": false,
     "start_time": "2021-12-02T12:31:48.583543",
     "status": "completed"
    },
    "tags": []
   },
   "outputs": [
    {
     "name": "stdout",
     "output_type": "stream",
     "text": [
      "0.5718136585143689\n"
     ]
    },
    {
     "data": {
      "text/plain": [
       "'\\n >>> import numpy as np\\n    >>> from sklearn.metrics import roc_auc_score\\n    >>> y_true = np.array([0, 0, 1, 1])\\n    >>> y_scores = np.array([0.1, 0.4, 0.35, 0.8])\\n    >>> roc_auc_score(y_true, y_scores)\\n    0.75\\n'"
      ]
     },
     "execution_count": 38,
     "metadata": {},
     "output_type": "execute_result"
    }
   ],
   "source": [
    "from sklearn.metrics import roc_auc_score\n",
    "# help(sklearn.metrics.roc_auc_score)\n",
    "# print(mean_absolute_error(y_valid, valid_pred))\n",
    "print(roc_auc_score(y_valid, valid_pred))\n",
    "'''\n",
    " >>> import numpy as np\n",
    "    >>> from sklearn.metrics import roc_auc_score\n",
    "    >>> y_true = np.array([0, 0, 1, 1])\n",
    "    >>> y_scores = np.array([0.1, 0.4, 0.35, 0.8])\n",
    "    >>> roc_auc_score(y_true, y_scores)\n",
    "    0.75\n",
    "'''"
   ]
  },
  {
   "cell_type": "markdown",
   "id": "52f14e94",
   "metadata": {
    "papermill": {
     "duration": 0.06661,
     "end_time": "2021-12-02T12:31:48.790755",
     "exception": false,
     "start_time": "2021-12-02T12:31:48.724145",
     "status": "completed"
    },
    "tags": []
   },
   "source": [
    "### 검증 모델 평가지표 확인 후 모델 결정 및 최종 test data 예측"
   ]
  },
  {
   "cell_type": "code",
   "execution_count": 39,
   "id": "02a92ab9",
   "metadata": {
    "execution": {
     "iopub.execute_input": "2021-12-02T12:31:48.934583Z",
     "iopub.status.busy": "2021-12-02T12:31:48.933398Z",
     "iopub.status.idle": "2021-12-02T12:31:48.997848Z",
     "shell.execute_reply": "2021-12-02T12:31:48.997229Z",
     "shell.execute_reply.started": "2021-12-02T12:17:20.978110Z"
    },
    "papermill": {
     "duration": 0.138189,
     "end_time": "2021-12-02T12:31:48.998025",
     "exception": false,
     "start_time": "2021-12-02T12:31:48.859836",
     "status": "completed"
    },
    "tags": []
   },
   "outputs": [],
   "source": [
    "test_pred = case.predict(x_test[features])"
   ]
  },
  {
   "cell_type": "code",
   "execution_count": 40,
   "id": "5ba14d11",
   "metadata": {
    "execution": {
     "iopub.execute_input": "2021-12-02T12:31:49.132070Z",
     "iopub.status.busy": "2021-12-02T12:31:49.131089Z",
     "iopub.status.idle": "2021-12-02T12:31:49.134738Z",
     "shell.execute_reply": "2021-12-02T12:31:49.135484Z",
     "shell.execute_reply.started": "2021-12-02T12:17:21.042753Z"
    },
    "papermill": {
     "duration": 0.070097,
     "end_time": "2021-12-02T12:31:49.135678",
     "exception": false,
     "start_time": "2021-12-02T12:31:49.065581",
     "status": "completed"
    },
    "tags": []
   },
   "outputs": [
    {
     "data": {
      "text/plain": [
       "array([0, 0, 0, ..., 1, 0, 0])"
      ]
     },
     "execution_count": 40,
     "metadata": {},
     "output_type": "execute_result"
    }
   ],
   "source": [
    "test_pred"
   ]
  },
  {
   "cell_type": "markdown",
   "id": "7549aa4a",
   "metadata": {
    "papermill": {
     "duration": 0.060478,
     "end_time": "2021-12-02T12:31:49.255203",
     "exception": false,
     "start_time": "2021-12-02T12:31:49.194725",
     "status": "completed"
    },
    "tags": []
   },
   "source": [
    "### 제출"
   ]
  },
  {
   "cell_type": "code",
   "execution_count": 41,
   "id": "775dcd35",
   "metadata": {
    "execution": {
     "iopub.execute_input": "2021-12-02T12:31:49.377547Z",
     "iopub.status.busy": "2021-12-02T12:31:49.376747Z",
     "iopub.status.idle": "2021-12-02T12:31:49.383237Z",
     "shell.execute_reply": "2021-12-02T12:31:49.383861Z",
     "shell.execute_reply.started": "2021-12-02T12:17:21.053980Z"
    },
    "papermill": {
     "duration": 0.070156,
     "end_time": "2021-12-02T12:31:49.384059",
     "exception": false,
     "start_time": "2021-12-02T12:31:49.313903",
     "status": "completed"
    },
    "tags": []
   },
   "outputs": [],
   "source": [
    "output = pd.DataFrame({'cust_id' : x_test.cust_id,\n",
    "                      'gender': test_pred})"
   ]
  },
  {
   "cell_type": "code",
   "execution_count": 42,
   "id": "44f310c6",
   "metadata": {
    "execution": {
     "iopub.execute_input": "2021-12-02T12:31:49.507255Z",
     "iopub.status.busy": "2021-12-02T12:31:49.506566Z",
     "iopub.status.idle": "2021-12-02T12:31:49.517524Z",
     "shell.execute_reply": "2021-12-02T12:31:49.518063Z",
     "shell.execute_reply.started": "2021-12-02T12:17:21.063950Z"
    },
    "papermill": {
     "duration": 0.076099,
     "end_time": "2021-12-02T12:31:49.518262",
     "exception": false,
     "start_time": "2021-12-02T12:31:49.442163",
     "status": "completed"
    },
    "tags": []
   },
   "outputs": [
    {
     "data": {
      "text/html": [
       "<div>\n",
       "<style scoped>\n",
       "    .dataframe tbody tr th:only-of-type {\n",
       "        vertical-align: middle;\n",
       "    }\n",
       "\n",
       "    .dataframe tbody tr th {\n",
       "        vertical-align: top;\n",
       "    }\n",
       "\n",
       "    .dataframe thead th {\n",
       "        text-align: right;\n",
       "    }\n",
       "</style>\n",
       "<table border=\"1\" class=\"dataframe\">\n",
       "  <thead>\n",
       "    <tr style=\"text-align: right;\">\n",
       "      <th></th>\n",
       "      <th>cust_id</th>\n",
       "      <th>gender</th>\n",
       "    </tr>\n",
       "    <tr>\n",
       "      <th>cust_id</th>\n",
       "      <th></th>\n",
       "      <th></th>\n",
       "    </tr>\n",
       "  </thead>\n",
       "  <tbody>\n",
       "    <tr>\n",
       "      <th>3500</th>\n",
       "      <td>3500</td>\n",
       "      <td>0</td>\n",
       "    </tr>\n",
       "    <tr>\n",
       "      <th>3501</th>\n",
       "      <td>3501</td>\n",
       "      <td>0</td>\n",
       "    </tr>\n",
       "    <tr>\n",
       "      <th>3502</th>\n",
       "      <td>3502</td>\n",
       "      <td>0</td>\n",
       "    </tr>\n",
       "    <tr>\n",
       "      <th>3503</th>\n",
       "      <td>3503</td>\n",
       "      <td>1</td>\n",
       "    </tr>\n",
       "    <tr>\n",
       "      <th>3504</th>\n",
       "      <td>3504</td>\n",
       "      <td>0</td>\n",
       "    </tr>\n",
       "    <tr>\n",
       "      <th>...</th>\n",
       "      <td>...</td>\n",
       "      <td>...</td>\n",
       "    </tr>\n",
       "    <tr>\n",
       "      <th>5977</th>\n",
       "      <td>5977</td>\n",
       "      <td>1</td>\n",
       "    </tr>\n",
       "    <tr>\n",
       "      <th>5978</th>\n",
       "      <td>5978</td>\n",
       "      <td>1</td>\n",
       "    </tr>\n",
       "    <tr>\n",
       "      <th>5979</th>\n",
       "      <td>5979</td>\n",
       "      <td>1</td>\n",
       "    </tr>\n",
       "    <tr>\n",
       "      <th>5980</th>\n",
       "      <td>5980</td>\n",
       "      <td>0</td>\n",
       "    </tr>\n",
       "    <tr>\n",
       "      <th>5981</th>\n",
       "      <td>5981</td>\n",
       "      <td>0</td>\n",
       "    </tr>\n",
       "  </tbody>\n",
       "</table>\n",
       "<p>2482 rows × 2 columns</p>\n",
       "</div>"
      ],
      "text/plain": [
       "         cust_id  gender\n",
       "cust_id                 \n",
       "3500        3500       0\n",
       "3501        3501       0\n",
       "3502        3502       0\n",
       "3503        3503       1\n",
       "3504        3504       0\n",
       "...          ...     ...\n",
       "5977        5977       1\n",
       "5978        5978       1\n",
       "5979        5979       1\n",
       "5980        5980       0\n",
       "5981        5981       0\n",
       "\n",
       "[2482 rows x 2 columns]"
      ]
     },
     "execution_count": 42,
     "metadata": {},
     "output_type": "execute_result"
    }
   ],
   "source": [
    "output"
   ]
  },
  {
   "cell_type": "markdown",
   "id": "f0b7b8b8",
   "metadata": {
    "papermill": {
     "duration": 0.060842,
     "end_time": "2021-12-02T12:31:49.638094",
     "exception": false,
     "start_time": "2021-12-02T12:31:49.577252",
     "status": "completed"
    },
    "tags": []
   },
   "source": [
    "### 인덱스 빼고 CSV로 저장해 주기"
   ]
  },
  {
   "cell_type": "code",
   "execution_count": 43,
   "id": "657fed89",
   "metadata": {
    "execution": {
     "iopub.execute_input": "2021-12-02T12:31:49.765165Z",
     "iopub.status.busy": "2021-12-02T12:31:49.764150Z",
     "iopub.status.idle": "2021-12-02T12:31:49.777265Z",
     "shell.execute_reply": "2021-12-02T12:31:49.776548Z",
     "shell.execute_reply.started": "2021-12-02T12:17:21.082839Z"
    },
    "papermill": {
     "duration": 0.076633,
     "end_time": "2021-12-02T12:31:49.777439",
     "exception": false,
     "start_time": "2021-12-02T12:31:49.700806",
     "status": "completed"
    },
    "tags": []
   },
   "outputs": [],
   "source": [
    "output.to_csv('output.csv', index=False)"
   ]
  },
  {
   "cell_type": "markdown",
   "id": "6180c770",
   "metadata": {
    "papermill": {
     "duration": 0.058871,
     "end_time": "2021-12-02T12:31:49.896795",
     "exception": false,
     "start_time": "2021-12-02T12:31:49.837924",
     "status": "completed"
    },
    "tags": []
   },
   "source": [
    "### 캐글 노트북 \"Upvote\"및 팔로우 클릭 부탁드립니다.\n",
    "### Git 저장소 \"Star\"클릭 부탁드립니다.\n",
    "\n",
    "# ※자격증 취득 이후에도 꾸준히 공부하시기 바랍니다.※"
   ]
  }
 ],
 "metadata": {
  "kernelspec": {
   "display_name": "Python 3",
   "language": "python",
   "name": "python3"
  },
  "language_info": {
   "codemirror_mode": {
    "name": "ipython",
    "version": 3
   },
   "file_extension": ".py",
   "mimetype": "text/x-python",
   "name": "python",
   "nbconvert_exporter": "python",
   "pygments_lexer": "ipython3",
   "version": "3.7.10"
  },
  "papermill": {
   "default_parameters": {},
   "duration": 21.949025,
   "end_time": "2021-12-02T12:31:50.668639",
   "environment_variables": {},
   "exception": null,
   "input_path": "__notebook__.ipynb",
   "output_path": "__notebook__.ipynb",
   "parameters": {},
   "start_time": "2021-12-02T12:31:28.719614",
   "version": "2.3.3"
  }
 },
 "nbformat": 4,
 "nbformat_minor": 5
}
